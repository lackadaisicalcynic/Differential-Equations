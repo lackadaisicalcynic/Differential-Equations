{
 "cells": [
  {
   "cell_type": "markdown",
   "metadata": {},
   "source": [
    "##  Differential Equation Computational Practicum\n",
    "# $y` = 2 \\sqrt y + 2y$"
   ]
  },
  {
   "cell_type": "code",
   "execution_count": 1,
   "metadata": {},
   "outputs": [
    {
     "data": {
      "text/html": [
       "\n",
       "    <div class=\"bk-root\">\n",
       "        <a href=\"https://bokeh.pydata.org\" target=\"_blank\" class=\"bk-logo bk-logo-small bk-logo-notebook\"></a>\n",
       "        <span id=\"018a23ba-4aa5-44e1-972c-0a8ad6424aed\">Loading BokehJS ...</span>\n",
       "    </div>"
      ]
     },
     "metadata": {},
     "output_type": "display_data"
    },
    {
     "data": {
      "application/javascript": [
       "\n",
       "(function(root) {\n",
       "  function now() {\n",
       "    return new Date();\n",
       "  }\n",
       "\n",
       "  var force = true;\n",
       "\n",
       "  if (typeof (root._bokeh_onload_callbacks) === \"undefined\" || force === true) {\n",
       "    root._bokeh_onload_callbacks = [];\n",
       "    root._bokeh_is_loading = undefined;\n",
       "  }\n",
       "\n",
       "  var JS_MIME_TYPE = 'application/javascript';\n",
       "  var HTML_MIME_TYPE = 'text/html';\n",
       "  var EXEC_MIME_TYPE = 'application/vnd.bokehjs_exec.v0+json';\n",
       "  var CLASS_NAME = 'output_bokeh rendered_html';\n",
       "\n",
       "  /**\n",
       "   * Render data to the DOM node\n",
       "   */\n",
       "  function render(props, node) {\n",
       "    var script = document.createElement(\"script\");\n",
       "    node.appendChild(script);\n",
       "  }\n",
       "\n",
       "  /**\n",
       "   * Handle when an output is cleared or removed\n",
       "   */\n",
       "  function handleClearOutput(event, handle) {\n",
       "    var cell = handle.cell;\n",
       "\n",
       "    var id = cell.output_area._bokeh_element_id;\n",
       "    var server_id = cell.output_area._bokeh_server_id;\n",
       "    // Clean up Bokeh references\n",
       "    if (id != null && id in Bokeh.index) {\n",
       "      Bokeh.index[id].model.document.clear();\n",
       "      delete Bokeh.index[id];\n",
       "    }\n",
       "\n",
       "    if (server_id !== undefined) {\n",
       "      // Clean up Bokeh references\n",
       "      var cmd = \"from bokeh.io.state import curstate; print(curstate().uuid_to_server['\" + server_id + \"'].get_sessions()[0].document.roots[0]._id)\";\n",
       "      cell.notebook.kernel.execute(cmd, {\n",
       "        iopub: {\n",
       "          output: function(msg) {\n",
       "            var id = msg.content.text.trim();\n",
       "            if (id in Bokeh.index) {\n",
       "              Bokeh.index[id].model.document.clear();\n",
       "              delete Bokeh.index[id];\n",
       "            }\n",
       "          }\n",
       "        }\n",
       "      });\n",
       "      // Destroy server and session\n",
       "      var cmd = \"import bokeh.io.notebook as ion; ion.destroy_server('\" + server_id + \"')\";\n",
       "      cell.notebook.kernel.execute(cmd);\n",
       "    }\n",
       "  }\n",
       "\n",
       "  /**\n",
       "   * Handle when a new output is added\n",
       "   */\n",
       "  function handleAddOutput(event, handle) {\n",
       "    var output_area = handle.output_area;\n",
       "    var output = handle.output;\n",
       "\n",
       "    // limit handleAddOutput to display_data with EXEC_MIME_TYPE content only\n",
       "    if ((output.output_type != \"display_data\") || (!output.data.hasOwnProperty(EXEC_MIME_TYPE))) {\n",
       "      return\n",
       "    }\n",
       "\n",
       "    var toinsert = output_area.element.find(\".\" + CLASS_NAME.split(' ')[0]);\n",
       "\n",
       "    if (output.metadata[EXEC_MIME_TYPE][\"id\"] !== undefined) {\n",
       "      toinsert[toinsert.length - 1].firstChild.textContent = output.data[JS_MIME_TYPE];\n",
       "      // store reference to embed id on output_area\n",
       "      output_area._bokeh_element_id = output.metadata[EXEC_MIME_TYPE][\"id\"];\n",
       "    }\n",
       "    if (output.metadata[EXEC_MIME_TYPE][\"server_id\"] !== undefined) {\n",
       "      var bk_div = document.createElement(\"div\");\n",
       "      bk_div.innerHTML = output.data[HTML_MIME_TYPE];\n",
       "      var script_attrs = bk_div.children[0].attributes;\n",
       "      for (var i = 0; i < script_attrs.length; i++) {\n",
       "        toinsert[toinsert.length - 1].firstChild.setAttribute(script_attrs[i].name, script_attrs[i].value);\n",
       "      }\n",
       "      // store reference to server id on output_area\n",
       "      output_area._bokeh_server_id = output.metadata[EXEC_MIME_TYPE][\"server_id\"];\n",
       "    }\n",
       "  }\n",
       "\n",
       "  function register_renderer(events, OutputArea) {\n",
       "\n",
       "    function append_mime(data, metadata, element) {\n",
       "      // create a DOM node to render to\n",
       "      var toinsert = this.create_output_subarea(\n",
       "        metadata,\n",
       "        CLASS_NAME,\n",
       "        EXEC_MIME_TYPE\n",
       "      );\n",
       "      this.keyboard_manager.register_events(toinsert);\n",
       "      // Render to node\n",
       "      var props = {data: data, metadata: metadata[EXEC_MIME_TYPE]};\n",
       "      render(props, toinsert[toinsert.length - 1]);\n",
       "      element.append(toinsert);\n",
       "      return toinsert\n",
       "    }\n",
       "\n",
       "    /* Handle when an output is cleared or removed */\n",
       "    events.on('clear_output.CodeCell', handleClearOutput);\n",
       "    events.on('delete.Cell', handleClearOutput);\n",
       "\n",
       "    /* Handle when a new output is added */\n",
       "    events.on('output_added.OutputArea', handleAddOutput);\n",
       "\n",
       "    /**\n",
       "     * Register the mime type and append_mime function with output_area\n",
       "     */\n",
       "    OutputArea.prototype.register_mime_type(EXEC_MIME_TYPE, append_mime, {\n",
       "      /* Is output safe? */\n",
       "      safe: true,\n",
       "      /* Index of renderer in `output_area.display_order` */\n",
       "      index: 0\n",
       "    });\n",
       "  }\n",
       "\n",
       "  // register the mime type if in Jupyter Notebook environment and previously unregistered\n",
       "  if (root.Jupyter !== undefined) {\n",
       "    var events = require('base/js/events');\n",
       "    var OutputArea = require('notebook/js/outputarea').OutputArea;\n",
       "\n",
       "    if (OutputArea.prototype.mime_types().indexOf(EXEC_MIME_TYPE) == -1) {\n",
       "      register_renderer(events, OutputArea);\n",
       "    }\n",
       "  }\n",
       "\n",
       "  \n",
       "  if (typeof (root._bokeh_timeout) === \"undefined\" || force === true) {\n",
       "    root._bokeh_timeout = Date.now() + 5000;\n",
       "    root._bokeh_failed_load = false;\n",
       "  }\n",
       "\n",
       "  var NB_LOAD_WARNING = {'data': {'text/html':\n",
       "     \"<div style='background-color: #fdd'>\\n\"+\n",
       "     \"<p>\\n\"+\n",
       "     \"BokehJS does not appear to have successfully loaded. If loading BokehJS from CDN, this \\n\"+\n",
       "     \"may be due to a slow or bad network connection. Possible fixes:\\n\"+\n",
       "     \"</p>\\n\"+\n",
       "     \"<ul>\\n\"+\n",
       "     \"<li>re-rerun `output_notebook()` to attempt to load from CDN again, or</li>\\n\"+\n",
       "     \"<li>use INLINE resources instead, as so:</li>\\n\"+\n",
       "     \"</ul>\\n\"+\n",
       "     \"<code>\\n\"+\n",
       "     \"from bokeh.resources import INLINE\\n\"+\n",
       "     \"output_notebook(resources=INLINE)\\n\"+\n",
       "     \"</code>\\n\"+\n",
       "     \"</div>\"}};\n",
       "\n",
       "  function display_loaded() {\n",
       "    var el = document.getElementById(\"018a23ba-4aa5-44e1-972c-0a8ad6424aed\");\n",
       "    if (el != null) {\n",
       "      el.textContent = \"BokehJS is loading...\";\n",
       "    }\n",
       "    if (root.Bokeh !== undefined) {\n",
       "      if (el != null) {\n",
       "        el.textContent = \"BokehJS \" + root.Bokeh.version + \" successfully loaded.\";\n",
       "      }\n",
       "    } else if (Date.now() < root._bokeh_timeout) {\n",
       "      setTimeout(display_loaded, 100)\n",
       "    }\n",
       "  }\n",
       "\n",
       "\n",
       "  function run_callbacks() {\n",
       "    try {\n",
       "      root._bokeh_onload_callbacks.forEach(function(callback) { callback() });\n",
       "    }\n",
       "    finally {\n",
       "      delete root._bokeh_onload_callbacks\n",
       "    }\n",
       "    console.info(\"Bokeh: all callbacks have finished\");\n",
       "  }\n",
       "\n",
       "  function load_libs(js_urls, callback) {\n",
       "    root._bokeh_onload_callbacks.push(callback);\n",
       "    if (root._bokeh_is_loading > 0) {\n",
       "      console.log(\"Bokeh: BokehJS is being loaded, scheduling callback at\", now());\n",
       "      return null;\n",
       "    }\n",
       "    if (js_urls == null || js_urls.length === 0) {\n",
       "      run_callbacks();\n",
       "      return null;\n",
       "    }\n",
       "    console.log(\"Bokeh: BokehJS not loaded, scheduling load and callback at\", now());\n",
       "    root._bokeh_is_loading = js_urls.length;\n",
       "    for (var i = 0; i < js_urls.length; i++) {\n",
       "      var url = js_urls[i];\n",
       "      var s = document.createElement('script');\n",
       "      s.src = url;\n",
       "      s.async = false;\n",
       "      s.onreadystatechange = s.onload = function() {\n",
       "        root._bokeh_is_loading--;\n",
       "        if (root._bokeh_is_loading === 0) {\n",
       "          console.log(\"Bokeh: all BokehJS libraries loaded\");\n",
       "          run_callbacks()\n",
       "        }\n",
       "      };\n",
       "      s.onerror = function() {\n",
       "        console.warn(\"failed to load library \" + url);\n",
       "      };\n",
       "      console.log(\"Bokeh: injecting script tag for BokehJS library: \", url);\n",
       "      document.getElementsByTagName(\"head\")[0].appendChild(s);\n",
       "    }\n",
       "  };var element = document.getElementById(\"018a23ba-4aa5-44e1-972c-0a8ad6424aed\");\n",
       "  if (element == null) {\n",
       "    console.log(\"Bokeh: ERROR: autoload.js configured with elementid '018a23ba-4aa5-44e1-972c-0a8ad6424aed' but no matching script tag was found. \")\n",
       "    return false;\n",
       "  }\n",
       "\n",
       "  var js_urls = [\"https://cdn.pydata.org/bokeh/release/bokeh-0.13.0.min.js\", \"https://cdn.pydata.org/bokeh/release/bokeh-widgets-0.13.0.min.js\", \"https://cdn.pydata.org/bokeh/release/bokeh-tables-0.13.0.min.js\", \"https://cdn.pydata.org/bokeh/release/bokeh-gl-0.13.0.min.js\"];\n",
       "\n",
       "  var inline_js = [\n",
       "    function(Bokeh) {\n",
       "      Bokeh.set_log_level(\"info\");\n",
       "    },\n",
       "    \n",
       "    function(Bokeh) {\n",
       "      \n",
       "    },\n",
       "    function(Bokeh) {\n",
       "      console.log(\"Bokeh: injecting CSS: https://cdn.pydata.org/bokeh/release/bokeh-0.13.0.min.css\");\n",
       "      Bokeh.embed.inject_css(\"https://cdn.pydata.org/bokeh/release/bokeh-0.13.0.min.css\");\n",
       "      console.log(\"Bokeh: injecting CSS: https://cdn.pydata.org/bokeh/release/bokeh-widgets-0.13.0.min.css\");\n",
       "      Bokeh.embed.inject_css(\"https://cdn.pydata.org/bokeh/release/bokeh-widgets-0.13.0.min.css\");\n",
       "      console.log(\"Bokeh: injecting CSS: https://cdn.pydata.org/bokeh/release/bokeh-tables-0.13.0.min.css\");\n",
       "      Bokeh.embed.inject_css(\"https://cdn.pydata.org/bokeh/release/bokeh-tables-0.13.0.min.css\");\n",
       "    }\n",
       "  ];\n",
       "\n",
       "  function run_inline_js() {\n",
       "    \n",
       "    if ((root.Bokeh !== undefined) || (force === true)) {\n",
       "      for (var i = 0; i < inline_js.length; i++) {\n",
       "        inline_js[i].call(root, root.Bokeh);\n",
       "      }if (force === true) {\n",
       "        display_loaded();\n",
       "      }} else if (Date.now() < root._bokeh_timeout) {\n",
       "      setTimeout(run_inline_js, 100);\n",
       "    } else if (!root._bokeh_failed_load) {\n",
       "      console.log(\"Bokeh: BokehJS failed to load within specified timeout.\");\n",
       "      root._bokeh_failed_load = true;\n",
       "    } else if (force !== true) {\n",
       "      var cell = $(document.getElementById(\"018a23ba-4aa5-44e1-972c-0a8ad6424aed\")).parents('.cell').data().cell;\n",
       "      cell.output_area.append_execute_result(NB_LOAD_WARNING)\n",
       "    }\n",
       "\n",
       "  }\n",
       "\n",
       "  if (root._bokeh_is_loading === 0) {\n",
       "    console.log(\"Bokeh: BokehJS loaded, going straight to plotting\");\n",
       "    run_inline_js();\n",
       "  } else {\n",
       "    load_libs(js_urls, function() {\n",
       "      console.log(\"Bokeh: BokehJS plotting callback run at\", now());\n",
       "      run_inline_js();\n",
       "    });\n",
       "  }\n",
       "}(window));"
      ],
      "application/vnd.bokehjs_load.v0+json": "\n(function(root) {\n  function now() {\n    return new Date();\n  }\n\n  var force = true;\n\n  if (typeof (root._bokeh_onload_callbacks) === \"undefined\" || force === true) {\n    root._bokeh_onload_callbacks = [];\n    root._bokeh_is_loading = undefined;\n  }\n\n  \n\n  \n  if (typeof (root._bokeh_timeout) === \"undefined\" || force === true) {\n    root._bokeh_timeout = Date.now() + 5000;\n    root._bokeh_failed_load = false;\n  }\n\n  var NB_LOAD_WARNING = {'data': {'text/html':\n     \"<div style='background-color: #fdd'>\\n\"+\n     \"<p>\\n\"+\n     \"BokehJS does not appear to have successfully loaded. If loading BokehJS from CDN, this \\n\"+\n     \"may be due to a slow or bad network connection. Possible fixes:\\n\"+\n     \"</p>\\n\"+\n     \"<ul>\\n\"+\n     \"<li>re-rerun `output_notebook()` to attempt to load from CDN again, or</li>\\n\"+\n     \"<li>use INLINE resources instead, as so:</li>\\n\"+\n     \"</ul>\\n\"+\n     \"<code>\\n\"+\n     \"from bokeh.resources import INLINE\\n\"+\n     \"output_notebook(resources=INLINE)\\n\"+\n     \"</code>\\n\"+\n     \"</div>\"}};\n\n  function display_loaded() {\n    var el = document.getElementById(\"018a23ba-4aa5-44e1-972c-0a8ad6424aed\");\n    if (el != null) {\n      el.textContent = \"BokehJS is loading...\";\n    }\n    if (root.Bokeh !== undefined) {\n      if (el != null) {\n        el.textContent = \"BokehJS \" + root.Bokeh.version + \" successfully loaded.\";\n      }\n    } else if (Date.now() < root._bokeh_timeout) {\n      setTimeout(display_loaded, 100)\n    }\n  }\n\n\n  function run_callbacks() {\n    try {\n      root._bokeh_onload_callbacks.forEach(function(callback) { callback() });\n    }\n    finally {\n      delete root._bokeh_onload_callbacks\n    }\n    console.info(\"Bokeh: all callbacks have finished\");\n  }\n\n  function load_libs(js_urls, callback) {\n    root._bokeh_onload_callbacks.push(callback);\n    if (root._bokeh_is_loading > 0) {\n      console.log(\"Bokeh: BokehJS is being loaded, scheduling callback at\", now());\n      return null;\n    }\n    if (js_urls == null || js_urls.length === 0) {\n      run_callbacks();\n      return null;\n    }\n    console.log(\"Bokeh: BokehJS not loaded, scheduling load and callback at\", now());\n    root._bokeh_is_loading = js_urls.length;\n    for (var i = 0; i < js_urls.length; i++) {\n      var url = js_urls[i];\n      var s = document.createElement('script');\n      s.src = url;\n      s.async = false;\n      s.onreadystatechange = s.onload = function() {\n        root._bokeh_is_loading--;\n        if (root._bokeh_is_loading === 0) {\n          console.log(\"Bokeh: all BokehJS libraries loaded\");\n          run_callbacks()\n        }\n      };\n      s.onerror = function() {\n        console.warn(\"failed to load library \" + url);\n      };\n      console.log(\"Bokeh: injecting script tag for BokehJS library: \", url);\n      document.getElementsByTagName(\"head\")[0].appendChild(s);\n    }\n  };var element = document.getElementById(\"018a23ba-4aa5-44e1-972c-0a8ad6424aed\");\n  if (element == null) {\n    console.log(\"Bokeh: ERROR: autoload.js configured with elementid '018a23ba-4aa5-44e1-972c-0a8ad6424aed' but no matching script tag was found. \")\n    return false;\n  }\n\n  var js_urls = [\"https://cdn.pydata.org/bokeh/release/bokeh-0.13.0.min.js\", \"https://cdn.pydata.org/bokeh/release/bokeh-widgets-0.13.0.min.js\", \"https://cdn.pydata.org/bokeh/release/bokeh-tables-0.13.0.min.js\", \"https://cdn.pydata.org/bokeh/release/bokeh-gl-0.13.0.min.js\"];\n\n  var inline_js = [\n    function(Bokeh) {\n      Bokeh.set_log_level(\"info\");\n    },\n    \n    function(Bokeh) {\n      \n    },\n    function(Bokeh) {\n      console.log(\"Bokeh: injecting CSS: https://cdn.pydata.org/bokeh/release/bokeh-0.13.0.min.css\");\n      Bokeh.embed.inject_css(\"https://cdn.pydata.org/bokeh/release/bokeh-0.13.0.min.css\");\n      console.log(\"Bokeh: injecting CSS: https://cdn.pydata.org/bokeh/release/bokeh-widgets-0.13.0.min.css\");\n      Bokeh.embed.inject_css(\"https://cdn.pydata.org/bokeh/release/bokeh-widgets-0.13.0.min.css\");\n      console.log(\"Bokeh: injecting CSS: https://cdn.pydata.org/bokeh/release/bokeh-tables-0.13.0.min.css\");\n      Bokeh.embed.inject_css(\"https://cdn.pydata.org/bokeh/release/bokeh-tables-0.13.0.min.css\");\n    }\n  ];\n\n  function run_inline_js() {\n    \n    if ((root.Bokeh !== undefined) || (force === true)) {\n      for (var i = 0; i < inline_js.length; i++) {\n        inline_js[i].call(root, root.Bokeh);\n      }if (force === true) {\n        display_loaded();\n      }} else if (Date.now() < root._bokeh_timeout) {\n      setTimeout(run_inline_js, 100);\n    } else if (!root._bokeh_failed_load) {\n      console.log(\"Bokeh: BokehJS failed to load within specified timeout.\");\n      root._bokeh_failed_load = true;\n    } else if (force !== true) {\n      var cell = $(document.getElementById(\"018a23ba-4aa5-44e1-972c-0a8ad6424aed\")).parents('.cell').data().cell;\n      cell.output_area.append_execute_result(NB_LOAD_WARNING)\n    }\n\n  }\n\n  if (root._bokeh_is_loading === 0) {\n    console.log(\"Bokeh: BokehJS loaded, going straight to plotting\");\n    run_inline_js();\n  } else {\n    load_libs(js_urls, function() {\n      console.log(\"Bokeh: BokehJS plotting callback run at\", now());\n      run_inline_js();\n    });\n  }\n}(window));"
     },
     "metadata": {},
     "output_type": "display_data"
    }
   ],
   "source": [
    "\n",
    "import numpy as np\n",
    "from bokeh.plotting import figure, output_file, show\n",
    "from bokeh.io import output_notebook, push_notebook, export_svgs\n",
    "from bokeh.layouts import column\n",
    "from ipywidgets import interact\n",
    "output_notebook()"
   ]
  },
  {
   "cell_type": "markdown",
   "metadata": {},
   "source": [
    "### Euler`s method"
   ]
  },
  {
   "cell_type": "code",
   "execution_count": 2,
   "metadata": {},
   "outputs": [],
   "source": [
    "def euler(size, h, x0, y0):\n",
    "    size = int(size / h)\n",
    "    x = np.arange(size + 1)\n",
    "    x = x*h + x0\n",
    "    y = np.zeros(size + 1)\n",
    "    y_error = np.zeros(size + 1)\n",
    "    \n",
    "    y[0] = y0\n",
    "    for i in range(1, size + 1):\n",
    "        y[i] = y[i-1] + h * (2 * y[i-1]**(1/2) + 2 * y[i-1])\n",
    "    return [x,y]"
   ]
  },
  {
   "cell_type": "markdown",
   "metadata": {},
   "source": [
    "\n",
    "### Improved Euler`s method"
   ]
  },
  {
   "cell_type": "code",
   "execution_count": 3,
   "metadata": {},
   "outputs": [],
   "source": [
    "def euler_improved(size, h, x0, y0):\n",
    "    size = int(size / h)\n",
    "    x = np.arange(size + 1)\n",
    "    x = x*h + x0\n",
    "    y = np.zeros(size + 1)\n",
    "    #y_error = np.zeros(size + 1)\n",
    "    y[0] = y0\n",
    "    for i in range(1, size + 1):\n",
    "        f = (2 * y[i-1]**(1/2) + 2 * y[i-1])\n",
    "        y_a = y[i-1] + h * f\n",
    "        f_a = (2 * y_a**(1/2) + 2 * y_a)\n",
    "        y[i] = y[i-1] + h/2 * (f + f_a)\n",
    "    return [x,y]"
   ]
  },
  {
   "cell_type": "markdown",
   "metadata": {},
   "source": [
    "### Range-Kutta method"
   ]
  },
  {
   "cell_type": "code",
   "execution_count": 4,
   "metadata": {},
   "outputs": [],
   "source": [
    "def runge_kutta(size, h, x0, y0):\n",
    "    size = int(size / h)\n",
    "    x = np.arange(size + 1)\n",
    "    x = x*h + x0\n",
    "    y = np.zeros(size + 1)\n",
    "    y[0] = 1\n",
    "    for i in range(1, size + 1):\n",
    "        k1 = 2 * y[i-1]**(1/2) + 2 * y[i-1]\n",
    "        k2 = 2 * (y[i-1] + h * k1 * 0.5)**(1/2) + 2 * (y[i-1] + h * k1 * 0.5)\n",
    "        k3 = 2 * (y[i-1] + h * k2 * 0.5)**(1/2) + 2 * (y[i-1] + h * k2 * 0.5)\n",
    "        k4 = 2 * (y[i-1] + h * k3)**(1/2) + 2 * (y[i-1] + h * k3)\n",
    "        y[i] = y[i-1] + h/6 * (k1 + 2*k2 + 2*k3 + k4)\n",
    "    return [x,y]"
   ]
  },
  {
   "cell_type": "markdown",
   "metadata": {},
   "source": [
    "### Exact solution of the equation for given initial values.  $ y=(1-2e^x)^2$"
   ]
  },
  {
   "cell_type": "code",
   "execution_count": 5,
   "metadata": {},
   "outputs": [],
   "source": [
    "def exact(size, h, x0, y0):\n",
    "    size = int(size / h)\n",
    "    x = np.arange(size + 1)\n",
    "    x = x*h + x0\n",
    "    y = np.zeros(size + 1)\n",
    "    for i in range(size + 1):\n",
    "        y[i] = (1 - 2 * np.e**x[i])**2\n",
    "    return y   "
   ]
  },
  {
   "cell_type": "markdown",
   "metadata": {},
   "source": [
    "### Plot Updating"
   ]
  },
  {
   "cell_type": "code",
   "execution_count": 6,
   "metadata": {},
   "outputs": [],
   "source": [
    "def update(Step=0.1, Range=3, x_0=0, y_0=1):\n",
    "    if Step == '' or Range == '' or x_0 == '' or y_0 == '' or x_0 == '-' or y_0 =='-' or Step =='-' or Range =='-':\n",
    "        return\n",
    "    x_0=float(x_0)\n",
    "    y_0=float(y_0)\n",
    "    Step=float(Step)\n",
    "    Range=float(Range)\n",
    "    \n",
    "    if Step <=0 or Range <= 0 or y_0 <= 0 or Step > Range:\n",
    "        return\n",
    "        \n",
    "    y_exact = exact(Range, Step, x_0, y_0)\n",
    "    result = euler(Range, Step, x_0, y_0)\n",
    "    x = result[0]\n",
    "    y = result[1]\n",
    "    y_error = abs(y_exact - y)\n",
    "    a.data_source.data = {'x': x, 'y': y}\n",
    "    b.data_source.data = {'x': x, 'y': y_error}\n",
    "    \n",
    "    result = euler_improved(Range, Step, x_0, y_0)\n",
    "    x = result[0]\n",
    "    y = result[1]\n",
    "    y_error = abs(y_exact - y)\n",
    "    c.data_source.data = {'x': x,'y': y}\n",
    "    d.data_source.data = {'x': x,'y': y_error}\n",
    "    \n",
    "    result = runge_kutta(Range, Step, x_0, y_0)\n",
    "    x = result[0]\n",
    "    y = result[1]\n",
    "    y_error = abs(y_exact - y)\n",
    "    e.data_source.data = {'x': x,'y': y}\n",
    "    f.data_source.data = {'x': x,'y': y_error}\n",
    "    g.data_source.data = {'x': x,'y': y_exact}\n",
    "    push_notebook()"
   ]
  },
  {
   "cell_type": "markdown",
   "metadata": {},
   "source": [
    "### Plot Creating"
   ]
  },
  {
   "cell_type": "code",
   "execution_count": 10,
   "metadata": {
    "scrolled": false
   },
   "outputs": [
    {
     "data": {
      "application/vnd.jupyter.widget-view+json": {
       "model_id": "44d73c2131e845b684d08819f4257a9f",
       "version_major": 2,
       "version_minor": 0
      },
      "text/plain": [
       "interactive(children=(Text(value='0.1', description='Step'), Text(value='3', description='Range'), Text(value=…"
      ]
     },
     "metadata": {},
     "output_type": "display_data"
    },
    {
     "data": {
      "text/html": [
       "\n",
       "\n",
       "\n",
       "\n",
       "\n",
       "\n",
       "  <div class=\"bk-root\" id=\"0f4d765c-f81d-43de-863d-7b77257ac070\"></div>\n"
      ]
     },
     "metadata": {},
     "output_type": "display_data"
    },
    {
     "data": {
      "application/javascript": [
       "(function(root) {\n",
       "  function embed_document(root) {\n",
       "    \n",
       "  var docs_json = {\"aec6e8c0-520c-4de6-a34f-cdda2af139e3\":{\"roots\":{\"references\":[{\"attributes\":{\"callback\":null},\"id\":\"1c1fc475-f701-4a49-a9a8-f5f426c37391\",\"type\":\"DataRange1d\"},{\"attributes\":{\"callback\":null,\"data\":{\"x\":{\"__ndarray__\":\"AAAAAAAAAACamZmZmZm5P5qZmZmZmck/NDMzMzMz0z+amZmZmZnZPwAAAAAAAOA/NDMzMzMz4z9nZmZmZmbmP5qZmZmZmek/zczMzMzM7D8AAAAAAADwP5qZmZmZmfE/NDMzMzMz8z/NzMzMzMz0P2dmZmZmZvY/AAAAAAAA+D+amZmZmZn5PzQzMzMzM/s/zczMzMzM/D9nZmZmZmb+PwAAAAAAAABAzczMzMzMAECamZmZmZkBQGdmZmZmZgJANDMzMzMzA0AAAAAAAAAEQM3MzMzMzARAmpmZmZmZBUBnZmZmZmYGQDQzMzMzMwdAAAAAAAAACEA=\",\"dtype\":\"float64\",\"shape\":[31]},\"y\":{\"__ndarray__\":\"AAAAAAAA8D/nrvqrV3D3P6YmRulLpwBAtR4L/cAcB0DimwF2mnoPQDeoCojrHBVAWyEP4cz3G0AIK/xM4lQiQO4ouA/n0SdAS2SDLGm4LkD4sUpz364zQPWxZQpZFTlA/2GL0e7PP0CH/tYEwRZEQGGXT5JlR0lAan+3iyu1T0CY6U33WdRTQD8m+qR6vVhAa/Q+MnDMXkC+iz4G9SFjQKGeDJfDumdAEnnNo5RibUBIMwY2QStyQPnRqgWmcHZAHFh09S6ve0CCFd2bYQ+BQD0EckPfAYVA5r5omdrYiUDVPlKVasePQAZKrbIBhpNAfcWZ+n35l0A=\",\"dtype\":\"float64\",\"shape\":[31]}},\"selected\":{\"id\":\"e51de095-e405-42f0-b85d-4186efdf1e1e\",\"type\":\"Selection\"},\"selection_policy\":{\"id\":\"65617bd2-a81f-431c-905e-d96186adbd5f\",\"type\":\"UnionRenderers\"}},\"id\":\"43b0a05d-ccbe-4ed7-805d-657da2c4ee1a\",\"type\":\"ColumnDataSource\"},{\"attributes\":{\"axis_label\":\"x\",\"formatter\":{\"id\":\"1bd8adbf-2c7a-4106-9939-a3bbc2c911a8\",\"type\":\"BasicTickFormatter\"},\"plot\":{\"id\":\"1b166681-5402-4857-a0e0-957e1edae00e\",\"subtype\":\"Figure\",\"type\":\"Plot\"},\"ticker\":{\"id\":\"38aa9263-2c38-4f50-855d-274a27e9594c\",\"type\":\"BasicTicker\"}},\"id\":\"95e464e0-90e9-4a6a-a7af-313f3844af3f\",\"type\":\"LinearAxis\"},{\"attributes\":{},\"id\":\"74ef8410-aee2-48d2-841f-c09ffbb7030a\",\"type\":\"Selection\"},{\"attributes\":{\"plot\":{\"id\":\"1b166681-5402-4857-a0e0-957e1edae00e\",\"subtype\":\"Figure\",\"type\":\"Plot\"},\"ticker\":{\"id\":\"38aa9263-2c38-4f50-855d-274a27e9594c\",\"type\":\"BasicTicker\"}},\"id\":\"0d67d6ae-88be-4db6-be3a-4c649221cbf1\",\"type\":\"Grid\"},{\"attributes\":{\"line_color\":\"red\",\"line_width\":2,\"x\":{\"field\":\"x\"},\"y\":{\"field\":\"y\"}},\"id\":\"54fed775-675b-4a20-8b79-46179039b728\",\"type\":\"Line\"},{\"attributes\":{},\"id\":\"38aa9263-2c38-4f50-855d-274a27e9594c\",\"type\":\"BasicTicker\"},{\"attributes\":{\"line_alpha\":0.1,\"line_color\":\"#1f77b4\",\"line_width\":2,\"x\":{\"field\":\"x\"},\"y\":{\"field\":\"y\"}},\"id\":\"eec0f05c-db8e-4c18-907f-d00186d500a5\",\"type\":\"Line\"},{\"attributes\":{\"axis_label\":\"y\",\"formatter\":{\"id\":\"f99b6b73-970f-4c14-a09a-a92b15c23bab\",\"type\":\"BasicTickFormatter\"},\"plot\":{\"id\":\"1b166681-5402-4857-a0e0-957e1edae00e\",\"subtype\":\"Figure\",\"type\":\"Plot\"},\"ticker\":{\"id\":\"94a77a28-6d0b-4104-a78a-d7593719583d\",\"type\":\"BasicTicker\"}},\"id\":\"95604672-b3b6-4b0a-babf-4f8f8af7799d\",\"type\":\"LinearAxis\"},{\"attributes\":{\"data_source\":{\"id\":\"55343d6a-6a5e-47fd-a6bc-cf3dda73f3f8\",\"type\":\"ColumnDataSource\"},\"glyph\":{\"id\":\"54fed775-675b-4a20-8b79-46179039b728\",\"type\":\"Line\"},\"hover_glyph\":null,\"muted_glyph\":null,\"nonselection_glyph\":{\"id\":\"eec0f05c-db8e-4c18-907f-d00186d500a5\",\"type\":\"Line\"},\"selection_glyph\":null,\"view\":{\"id\":\"233e1d92-b5e9-46a7-9e16-b34cb356ce57\",\"type\":\"CDSView\"}},\"id\":\"e9b43d20-f4cf-42da-9c17-23343d8034e7\",\"type\":\"GlyphRenderer\"},{\"attributes\":{},\"id\":\"94a77a28-6d0b-4104-a78a-d7593719583d\",\"type\":\"BasicTicker\"},{\"attributes\":{\"source\":{\"id\":\"55343d6a-6a5e-47fd-a6bc-cf3dda73f3f8\",\"type\":\"ColumnDataSource\"}},\"id\":\"233e1d92-b5e9-46a7-9e16-b34cb356ce57\",\"type\":\"CDSView\"},{\"attributes\":{\"dimension\":1,\"plot\":{\"id\":\"1b166681-5402-4857-a0e0-957e1edae00e\",\"subtype\":\"Figure\",\"type\":\"Plot\"},\"ticker\":{\"id\":\"94a77a28-6d0b-4104-a78a-d7593719583d\",\"type\":\"BasicTicker\"}},\"id\":\"02de641a-7097-4836-bab7-62352d23e3a8\",\"type\":\"Grid\"},{\"attributes\":{},\"id\":\"afe306d7-8386-48aa-8d40-1f4c934b273e\",\"type\":\"UnionRenderers\"},{\"attributes\":{\"active_drag\":\"auto\",\"active_inspect\":\"auto\",\"active_multi\":null,\"active_scroll\":\"auto\",\"active_tap\":\"auto\",\"tools\":[{\"id\":\"0062c4a1-4bff-4c0a-bc9a-a910bee14990\",\"type\":\"PanTool\"},{\"id\":\"ae462e90-5a96-4361-a911-0fb0401577b5\",\"type\":\"WheelZoomTool\"},{\"id\":\"7c9b39ab-9587-4a3a-bd8b-f5a34ab1131d\",\"type\":\"BoxZoomTool\"},{\"id\":\"5043c5f0-6787-41db-b14d-28ecd906d3fa\",\"type\":\"SaveTool\"},{\"id\":\"3ddce292-ed96-4a53-a9f1-d3dba4328725\",\"type\":\"ResetTool\"},{\"id\":\"a5be5a12-3844-47df-8d85-8bf77ee03bd6\",\"type\":\"HelpTool\"}]},\"id\":\"4bca11e1-caa7-427a-b493-a2fce7e42b38\",\"type\":\"Toolbar\"},{\"attributes\":{},\"id\":\"e6fecf56-c3a5-4fe9-a7b7-cb3cf407a7ed\",\"type\":\"Selection\"},{\"attributes\":{\"active_drag\":\"auto\",\"active_inspect\":\"auto\",\"active_multi\":null,\"active_scroll\":\"auto\",\"active_tap\":\"auto\",\"tools\":[{\"id\":\"32819baf-e13a-480e-8c55-acc626955dae\",\"type\":\"PanTool\"},{\"id\":\"4af76a27-08c1-4afe-8372-f8fc0b397ea8\",\"type\":\"WheelZoomTool\"},{\"id\":\"13369f58-134a-486b-98b4-5aa70cb95066\",\"type\":\"BoxZoomTool\"},{\"id\":\"dcb7a5ec-2f3a-498d-8287-c0bdd92265fb\",\"type\":\"SaveTool\"},{\"id\":\"102e2bab-c002-4e3d-a492-999e3ac26cd3\",\"type\":\"ResetTool\"},{\"id\":\"aa4269fe-2d37-45aa-9428-7402c19f54de\",\"type\":\"HelpTool\"}]},\"id\":\"6477954d-62ee-4c10-a4c5-0079c9ffef3b\",\"type\":\"Toolbar\"},{\"attributes\":{\"plot\":null,\"text\":\"Truncation error\"},\"id\":\"1a0b5172-36db-4cc5-83c7-95bfad663ecb\",\"type\":\"Title\"},{\"attributes\":{\"label\":{\"value\":\"Runge Kutta\"},\"renderers\":[{\"id\":\"e9b43d20-f4cf-42da-9c17-23343d8034e7\",\"type\":\"GlyphRenderer\"}]},\"id\":\"e7c8af02-6f6c-4e86-bd99-4d3302a71c48\",\"type\":\"LegendItem\"},{\"attributes\":{\"click_policy\":\"hide\",\"items\":[{\"id\":\"4e1ea23a-7581-4235-b3b9-d7653b6e6f3a\",\"type\":\"LegendItem\"},{\"id\":\"d91667d2-fc3d-46d8-a7b1-5123cc1aaec1\",\"type\":\"LegendItem\"},{\"id\":\"a220edfb-f463-4faf-a0b2-fafeddd3a02a\",\"type\":\"LegendItem\"},{\"id\":\"bd8b8bf1-82a1-4aff-8cdd-dd4607ffc6ba\",\"type\":\"LegendItem\"}],\"location\":\"top_left\",\"plot\":{\"id\":\"1b166681-5402-4857-a0e0-957e1edae00e\",\"subtype\":\"Figure\",\"type\":\"Plot\"}},\"id\":\"6f87b755-844b-432d-92e6-103ac53d900c\",\"type\":\"Legend\"},{\"attributes\":{},\"id\":\"825dcf64-4eae-4f3d-9f20-827513d9e2bb\",\"type\":\"LinearScale\"},{\"attributes\":{\"line_color\":\"orange\",\"line_width\":2,\"x\":{\"field\":\"x\"},\"y\":{\"field\":\"y\"}},\"id\":\"91e1f678-92a5-47e6-bd95-1da66f0b26f1\",\"type\":\"Line\"},{\"attributes\":{},\"id\":\"32819baf-e13a-480e-8c55-acc626955dae\",\"type\":\"PanTool\"},{\"attributes\":{\"line_alpha\":0.1,\"line_color\":\"#1f77b4\",\"line_width\":2,\"x\":{\"field\":\"x\"},\"y\":{\"field\":\"y\"}},\"id\":\"34a743b1-7ad0-4acb-812f-658ff5bc1279\",\"type\":\"Line\"},{\"attributes\":{\"data_source\":{\"id\":\"43b0a05d-ccbe-4ed7-805d-657da2c4ee1a\",\"type\":\"ColumnDataSource\"},\"glyph\":{\"id\":\"91e1f678-92a5-47e6-bd95-1da66f0b26f1\",\"type\":\"Line\"},\"hover_glyph\":null,\"muted_glyph\":null,\"nonselection_glyph\":{\"id\":\"34a743b1-7ad0-4acb-812f-658ff5bc1279\",\"type\":\"Line\"},\"selection_glyph\":null,\"view\":{\"id\":\"53dc7575-ceaa-44af-8689-95dd7d8227cd\",\"type\":\"CDSView\"}},\"id\":\"919ce076-917e-4e7d-a105-e8124a07696a\",\"type\":\"GlyphRenderer\"},{\"attributes\":{\"source\":{\"id\":\"485e5b84-27bf-4f92-be82-e77319306740\",\"type\":\"ColumnDataSource\"}},\"id\":\"51eb7fae-b9e6-4651-a2eb-c6bb4846f13c\",\"type\":\"CDSView\"},{\"attributes\":{},\"id\":\"4af76a27-08c1-4afe-8372-f8fc0b397ea8\",\"type\":\"WheelZoomTool\"},{\"attributes\":{\"source\":{\"id\":\"43b0a05d-ccbe-4ed7-805d-657da2c4ee1a\",\"type\":\"ColumnDataSource\"}},\"id\":\"53dc7575-ceaa-44af-8689-95dd7d8227cd\",\"type\":\"CDSView\"},{\"attributes\":{\"overlay\":{\"id\":\"504f34d6-f4b5-4491-af66-d0ec8b609104\",\"type\":\"BoxAnnotation\"}},\"id\":\"13369f58-134a-486b-98b4-5aa70cb95066\",\"type\":\"BoxZoomTool\"},{\"attributes\":{},\"id\":\"83e97e34-b5ba-4579-9807-d2ebd7a7c25c\",\"type\":\"UnionRenderers\"},{\"attributes\":{\"children\":[{\"id\":\"1b166681-5402-4857-a0e0-957e1edae00e\",\"subtype\":\"Figure\",\"type\":\"Plot\"},{\"id\":\"12efbaf1-034e-47f9-a0c4-f050acd0a91f\",\"subtype\":\"Figure\",\"type\":\"Plot\"}]},\"id\":\"1533604a-771e-4876-96fc-9784b32db94c\",\"type\":\"Column\"},{\"attributes\":{},\"id\":\"dcb7a5ec-2f3a-498d-8287-c0bdd92265fb\",\"type\":\"SaveTool\"},{\"attributes\":{},\"id\":\"102e2bab-c002-4e3d-a492-999e3ac26cd3\",\"type\":\"ResetTool\"},{\"attributes\":{\"label\":{\"value\":\"Exact\"},\"renderers\":[{\"id\":\"919ce076-917e-4e7d-a105-e8124a07696a\",\"type\":\"GlyphRenderer\"}]},\"id\":\"bd8b8bf1-82a1-4aff-8cdd-dd4607ffc6ba\",\"type\":\"LegendItem\"},{\"attributes\":{},\"id\":\"aa4269fe-2d37-45aa-9428-7402c19f54de\",\"type\":\"HelpTool\"},{\"attributes\":{},\"id\":\"cf8b3a02-f667-47af-aa3e-7f6ee5206e97\",\"type\":\"UnionRenderers\"},{\"attributes\":{\"bottom_units\":\"screen\",\"fill_alpha\":{\"value\":0.5},\"fill_color\":{\"value\":\"lightgrey\"},\"left_units\":\"screen\",\"level\":\"overlay\",\"line_alpha\":{\"value\":1.0},\"line_color\":{\"value\":\"black\"},\"line_dash\":[4,4],\"line_width\":{\"value\":2},\"plot\":null,\"render_mode\":\"css\",\"right_units\":\"screen\",\"top_units\":\"screen\"},\"id\":\"504f34d6-f4b5-4491-af66-d0ec8b609104\",\"type\":\"BoxAnnotation\"},{\"attributes\":{\"plot\":{\"id\":\"12efbaf1-034e-47f9-a0c4-f050acd0a91f\",\"subtype\":\"Figure\",\"type\":\"Plot\"},\"ticker\":{\"id\":\"ebe74cf1-4d4d-4289-be52-59d91ace7106\",\"type\":\"BasicTicker\"}},\"id\":\"cba2d531-bff3-45bc-bc76-38e0e35d0eeb\",\"type\":\"Grid\"},{\"attributes\":{\"callback\":null},\"id\":\"151ca9cf-ecb9-43dd-98a4-95041073155f\",\"type\":\"DataRange1d\"},{\"attributes\":{\"plot\":null,\"text\":\"y` = 2\\u221ay + 2y\"},\"id\":\"a9705eed-65b2-4e1e-8fe8-9fd65023ee83\",\"type\":\"Title\"},{\"attributes\":{},\"id\":\"840fbb47-4cb8-4cc4-a719-11c50e255542\",\"type\":\"LinearScale\"},{\"attributes\":{},\"id\":\"77fb47e8-de25-4f4b-a6de-3ebb2d482e0b\",\"type\":\"LinearScale\"},{\"attributes\":{\"axis_label\":\"x\",\"formatter\":{\"id\":\"cbdf7e67-d85f-4197-b73d-ebf1b27951b8\",\"type\":\"BasicTickFormatter\"},\"plot\":{\"id\":\"12efbaf1-034e-47f9-a0c4-f050acd0a91f\",\"subtype\":\"Figure\",\"type\":\"Plot\"},\"ticker\":{\"id\":\"ebe74cf1-4d4d-4289-be52-59d91ace7106\",\"type\":\"BasicTicker\"}},\"id\":\"6e42ddea-af7d-4e17-8541-53f9033d11c5\",\"type\":\"LinearAxis\"},{\"attributes\":{},\"id\":\"ebe74cf1-4d4d-4289-be52-59d91ace7106\",\"type\":\"BasicTicker\"},{\"attributes\":{\"axis_label\":\"y\",\"formatter\":{\"id\":\"eec704f9-6562-49b1-9ae4-2f9358bdc67c\",\"type\":\"BasicTickFormatter\"},\"plot\":{\"id\":\"12efbaf1-034e-47f9-a0c4-f050acd0a91f\",\"subtype\":\"Figure\",\"type\":\"Plot\"},\"ticker\":{\"id\":\"e4c10398-e9f4-4def-a815-e2a343c78350\",\"type\":\"BasicTicker\"}},\"id\":\"a6113018-5563-43f6-8383-7c4076b2b7c8\",\"type\":\"LinearAxis\"},{\"attributes\":{},\"id\":\"e4c10398-e9f4-4def-a815-e2a343c78350\",\"type\":\"BasicTicker\"},{\"attributes\":{\"below\":[{\"id\":\"6e42ddea-af7d-4e17-8541-53f9033d11c5\",\"type\":\"LinearAxis\"}],\"left\":[{\"id\":\"a6113018-5563-43f6-8383-7c4076b2b7c8\",\"type\":\"LinearAxis\"}],\"renderers\":[{\"id\":\"6e42ddea-af7d-4e17-8541-53f9033d11c5\",\"type\":\"LinearAxis\"},{\"id\":\"cba2d531-bff3-45bc-bc76-38e0e35d0eeb\",\"type\":\"Grid\"},{\"id\":\"a6113018-5563-43f6-8383-7c4076b2b7c8\",\"type\":\"LinearAxis\"},{\"id\":\"1e993813-c26a-4b12-a8e6-1f71700c863f\",\"type\":\"Grid\"},{\"id\":\"e3f18f56-ec0c-4ea4-a9f2-c4d0b08bc254\",\"type\":\"BoxAnnotation\"},{\"id\":\"94bc2f1f-107f-45ff-8be0-2cf1c2e57bfa\",\"type\":\"Legend\"},{\"id\":\"bf3ec45b-add9-4f10-bf01-3edec6b2d8c7\",\"type\":\"GlyphRenderer\"},{\"id\":\"159112a8-8bcf-4ab2-9274-6cd29bf1abc0\",\"type\":\"GlyphRenderer\"},{\"id\":\"e9b43d20-f4cf-42da-9c17-23343d8034e7\",\"type\":\"GlyphRenderer\"}],\"title\":{\"id\":\"1a0b5172-36db-4cc5-83c7-95bfad663ecb\",\"type\":\"Title\"},\"toolbar\":{\"id\":\"4bca11e1-caa7-427a-b493-a2fce7e42b38\",\"type\":\"Toolbar\"},\"x_range\":{\"id\":\"1c1fc475-f701-4a49-a9a8-f5f426c37391\",\"type\":\"DataRange1d\"},\"x_scale\":{\"id\":\"825dcf64-4eae-4f3d-9f20-827513d9e2bb\",\"type\":\"LinearScale\"},\"y_range\":{\"id\":\"151ca9cf-ecb9-43dd-98a4-95041073155f\",\"type\":\"DataRange1d\"},\"y_scale\":{\"id\":\"77fb47e8-de25-4f4b-a6de-3ebb2d482e0b\",\"type\":\"LinearScale\"}},\"id\":\"12efbaf1-034e-47f9-a0c4-f050acd0a91f\",\"subtype\":\"Figure\",\"type\":\"Plot\"},{\"attributes\":{\"dimension\":1,\"plot\":{\"id\":\"12efbaf1-034e-47f9-a0c4-f050acd0a91f\",\"subtype\":\"Figure\",\"type\":\"Plot\"},\"ticker\":{\"id\":\"e4c10398-e9f4-4def-a815-e2a343c78350\",\"type\":\"BasicTicker\"}},\"id\":\"1e993813-c26a-4b12-a8e6-1f71700c863f\",\"type\":\"Grid\"},{\"attributes\":{},\"id\":\"1bd8adbf-2c7a-4106-9939-a3bbc2c911a8\",\"type\":\"BasicTickFormatter\"},{\"attributes\":{\"data_source\":{\"id\":\"485e5b84-27bf-4f92-be82-e77319306740\",\"type\":\"ColumnDataSource\"},\"glyph\":{\"id\":\"98fa694f-8b59-49ae-a61c-1c6ce555ee90\",\"type\":\"Line\"},\"hover_glyph\":null,\"muted_glyph\":null,\"nonselection_glyph\":{\"id\":\"c05d0dca-d0bf-4e13-b72b-c17a1d74a939\",\"type\":\"Line\"},\"selection_glyph\":null,\"view\":{\"id\":\"51eb7fae-b9e6-4651-a2eb-c6bb4846f13c\",\"type\":\"CDSView\"}},\"id\":\"973481bd-241a-4e2f-aee0-196078ac3c81\",\"type\":\"GlyphRenderer\"},{\"attributes\":{\"line_color\":\"green\",\"line_width\":2,\"x\":{\"field\":\"x\"},\"y\":{\"field\":\"y\"}},\"id\":\"98fa694f-8b59-49ae-a61c-1c6ce555ee90\",\"type\":\"Line\"},{\"attributes\":{\"line_alpha\":0.1,\"line_color\":\"#1f77b4\",\"line_width\":2,\"x\":{\"field\":\"x\"},\"y\":{\"field\":\"y\"}},\"id\":\"c05d0dca-d0bf-4e13-b72b-c17a1d74a939\",\"type\":\"Line\"},{\"attributes\":{\"click_policy\":\"hide\",\"items\":[{\"id\":\"02310c4a-78e7-40ef-ad38-e9e0f94bad60\",\"type\":\"LegendItem\"},{\"id\":\"a8d10bba-8bc0-46b5-84f3-6790d7b3c0cb\",\"type\":\"LegendItem\"},{\"id\":\"e7c8af02-6f6c-4e86-bd99-4d3302a71c48\",\"type\":\"LegendItem\"}],\"location\":\"top_left\",\"plot\":{\"id\":\"12efbaf1-034e-47f9-a0c4-f050acd0a91f\",\"subtype\":\"Figure\",\"type\":\"Plot\"}},\"id\":\"94bc2f1f-107f-45ff-8be0-2cf1c2e57bfa\",\"type\":\"Legend\"},{\"attributes\":{\"below\":[{\"id\":\"95e464e0-90e9-4a6a-a7af-313f3844af3f\",\"type\":\"LinearAxis\"}],\"left\":[{\"id\":\"95604672-b3b6-4b0a-babf-4f8f8af7799d\",\"type\":\"LinearAxis\"}],\"renderers\":[{\"id\":\"95e464e0-90e9-4a6a-a7af-313f3844af3f\",\"type\":\"LinearAxis\"},{\"id\":\"0d67d6ae-88be-4db6-be3a-4c649221cbf1\",\"type\":\"Grid\"},{\"id\":\"95604672-b3b6-4b0a-babf-4f8f8af7799d\",\"type\":\"LinearAxis\"},{\"id\":\"02de641a-7097-4836-bab7-62352d23e3a8\",\"type\":\"Grid\"},{\"id\":\"504f34d6-f4b5-4491-af66-d0ec8b609104\",\"type\":\"BoxAnnotation\"},{\"id\":\"6f87b755-844b-432d-92e6-103ac53d900c\",\"type\":\"Legend\"},{\"id\":\"973481bd-241a-4e2f-aee0-196078ac3c81\",\"type\":\"GlyphRenderer\"},{\"id\":\"7f8bb0e6-d897-4375-80ef-c894ac931ac7\",\"type\":\"GlyphRenderer\"},{\"id\":\"1e74399c-bf61-4a77-ad68-1bed5db07a9f\",\"type\":\"GlyphRenderer\"},{\"id\":\"919ce076-917e-4e7d-a105-e8124a07696a\",\"type\":\"GlyphRenderer\"}],\"title\":{\"id\":\"a9705eed-65b2-4e1e-8fe8-9fd65023ee83\",\"type\":\"Title\"},\"toolbar\":{\"id\":\"6477954d-62ee-4c10-a4c5-0079c9ffef3b\",\"type\":\"Toolbar\"},\"x_range\":{\"id\":\"d191306e-6ee1-4b04-9508-0369465a0f6a\",\"type\":\"DataRange1d\"},\"x_scale\":{\"id\":\"840fbb47-4cb8-4cc4-a719-11c50e255542\",\"type\":\"LinearScale\"},\"y_range\":{\"id\":\"962dedee-0db2-4d31-8b95-2d41a8eefebb\",\"type\":\"DataRange1d\"},\"y_scale\":{\"id\":\"757603f1-f881-4bfc-879f-ba9b76ce1180\",\"type\":\"LinearScale\"}},\"id\":\"1b166681-5402-4857-a0e0-957e1edae00e\",\"subtype\":\"Figure\",\"type\":\"Plot\"},{\"attributes\":{},\"id\":\"0062c4a1-4bff-4c0a-bc9a-a910bee14990\",\"type\":\"PanTool\"},{\"attributes\":{},\"id\":\"f99b6b73-970f-4c14-a09a-a92b15c23bab\",\"type\":\"BasicTickFormatter\"},{\"attributes\":{},\"id\":\"ae462e90-5a96-4361-a911-0fb0401577b5\",\"type\":\"WheelZoomTool\"},{\"attributes\":{\"overlay\":{\"id\":\"e3f18f56-ec0c-4ea4-a9f2-c4d0b08bc254\",\"type\":\"BoxAnnotation\"}},\"id\":\"7c9b39ab-9587-4a3a-bd8b-f5a34ab1131d\",\"type\":\"BoxZoomTool\"},{\"attributes\":{},\"id\":\"5043c5f0-6787-41db-b14d-28ecd906d3fa\",\"type\":\"SaveTool\"},{\"attributes\":{\"callback\":null,\"data\":{\"x\":{\"__ndarray__\":\"AAAAAAAAAACamZmZmZm5P5qZmZmZmck/NDMzMzMz0z+amZmZmZnZPwAAAAAAAOA/NDMzMzMz4z9nZmZmZmbmP5qZmZmZmek/zczMzMzM7D8AAAAAAADwP5qZmZmZmfE/NDMzMzMz8z/NzMzMzMz0P2dmZmZmZvY/AAAAAAAA+D+amZmZmZn5PzQzMzMzM/s/zczMzMzM/D9nZmZmZmb+PwAAAAAAAABAzczMzMzMAECamZmZmZkBQGdmZmZmZgJANDMzMzMzA0AAAAAAAAAEQM3MzMzMzARAmpmZmZmZBUBnZmZmZmYGQDQzMzMzMwdAAAAAAAAACEA=\",\"dtype\":\"float64\",\"shape\":[31]},\"y\":{\"__ndarray__\":\"AAAAAAAAAAAAh/tzpQ57P4Bns1PA5ZA/APMUMPB/nz/AOTkG5v6pP0DTytyiDLQ/gP7EQB+dvT/AkyWT8jfFPwA1dv8avM0/oPEC7c161D9AZcNwQtTbPyAujGhFs+I/YH8hdUjn6D8gi40wmnTwP0AoGiLymvU/YInfGEc1/D/AyqBAO1MCQECly/lbtQdAYPVUl/uODkCAb7q476ATQADne3tFJBlAYLeLBhkPIEDgiVsvVnckQCAvr5nYBipA8MKCfUuEMEAgKZMRF+00QIBEhMk5eDpAwDB6/0i3QEBgJZh+fBVFQID0uF1Sj0pAgD4tFqa1UEA=\",\"dtype\":\"float64\",\"shape\":[31]}},\"selected\":{\"id\":\"74ef8410-aee2-48d2-841f-c09ffbb7030a\",\"type\":\"Selection\"},\"selection_policy\":{\"id\":\"afe306d7-8386-48aa-8d40-1f4c934b273e\",\"type\":\"UnionRenderers\"}},\"id\":\"dc65fa6b-8d0e-4b6f-ae9b-ad048874d55e\",\"type\":\"ColumnDataSource\"},{\"attributes\":{},\"id\":\"3ddce292-ed96-4a53-a9f1-d3dba4328725\",\"type\":\"ResetTool\"},{\"attributes\":{},\"id\":\"a5be5a12-3844-47df-8d85-8bf77ee03bd6\",\"type\":\"HelpTool\"},{\"attributes\":{\"bottom_units\":\"screen\",\"fill_alpha\":{\"value\":0.5},\"fill_color\":{\"value\":\"lightgrey\"},\"left_units\":\"screen\",\"level\":\"overlay\",\"line_alpha\":{\"value\":1.0},\"line_color\":{\"value\":\"black\"},\"line_dash\":[4,4],\"line_width\":{\"value\":2},\"plot\":null,\"render_mode\":\"css\",\"right_units\":\"screen\",\"top_units\":\"screen\"},\"id\":\"e3f18f56-ec0c-4ea4-a9f2-c4d0b08bc254\",\"type\":\"BoxAnnotation\"},{\"attributes\":{\"line_color\":\"green\",\"line_width\":2,\"x\":{\"field\":\"x\"},\"y\":{\"field\":\"y\"}},\"id\":\"2ae90a01-0a2a-45c4-900d-03280c0bf052\",\"type\":\"Line\"},{\"attributes\":{},\"id\":\"757603f1-f881-4bfc-879f-ba9b76ce1180\",\"type\":\"LinearScale\"},{\"attributes\":{\"label\":{\"value\":\"Euler\"},\"renderers\":[{\"id\":\"973481bd-241a-4e2f-aee0-196078ac3c81\",\"type\":\"GlyphRenderer\"}]},\"id\":\"4e1ea23a-7581-4235-b3b9-d7653b6e6f3a\",\"type\":\"LegendItem\"},{\"attributes\":{},\"id\":\"e7f9f781-a734-4c62-b0f2-48c6a8a29a4f\",\"type\":\"Selection\"},{\"attributes\":{\"line_alpha\":0.1,\"line_color\":\"#1f77b4\",\"line_width\":2,\"x\":{\"field\":\"x\"},\"y\":{\"field\":\"y\"}},\"id\":\"5dba2c21-ea3d-4368-8144-3291050aeb7c\",\"type\":\"Line\"},{\"attributes\":{\"data_source\":{\"id\":\"21287b40-c8aa-4f7a-9e30-ca6ee395c098\",\"type\":\"ColumnDataSource\"},\"glyph\":{\"id\":\"2ae90a01-0a2a-45c4-900d-03280c0bf052\",\"type\":\"Line\"},\"hover_glyph\":null,\"muted_glyph\":null,\"nonselection_glyph\":{\"id\":\"5dba2c21-ea3d-4368-8144-3291050aeb7c\",\"type\":\"Line\"},\"selection_glyph\":null,\"view\":{\"id\":\"a40a5ee2-640e-47ca-9b7d-85595077843e\",\"type\":\"CDSView\"}},\"id\":\"bf3ec45b-add9-4f10-bf01-3edec6b2d8c7\",\"type\":\"GlyphRenderer\"},{\"attributes\":{\"source\":{\"id\":\"21287b40-c8aa-4f7a-9e30-ca6ee395c098\",\"type\":\"ColumnDataSource\"}},\"id\":\"a40a5ee2-640e-47ca-9b7d-85595077843e\",\"type\":\"CDSView\"},{\"attributes\":{},\"id\":\"cbdf7e67-d85f-4197-b73d-ebf1b27951b8\",\"type\":\"BasicTickFormatter\"},{\"attributes\":{},\"id\":\"eec704f9-6562-49b1-9ae4-2f9358bdc67c\",\"type\":\"BasicTickFormatter\"},{\"attributes\":{\"line_color\":\"navy\",\"line_width\":2,\"x\":{\"field\":\"x\"},\"y\":{\"field\":\"y\"}},\"id\":\"217baf9f-ce98-48ed-826f-bce13e1bbb1f\",\"type\":\"Line\"},{\"attributes\":{\"label\":{\"value\":\"Euler\"},\"renderers\":[{\"id\":\"bf3ec45b-add9-4f10-bf01-3edec6b2d8c7\",\"type\":\"GlyphRenderer\"}]},\"id\":\"02310c4a-78e7-40ef-ad38-e9e0f94bad60\",\"type\":\"LegendItem\"},{\"attributes\":{\"callback\":null,\"data\":{\"x\":{\"__ndarray__\":\"AAAAAAAAAACamZmZmZm5P5qZmZmZmck/NDMzMzMz0z+amZmZmZnZPwAAAAAAAOA/NDMzMzMz4z9nZmZmZmbmP5qZmZmZmek/zczMzMzM7D8AAAAAAADwP5qZmZmZmfE/NDMzMzMz8z/NzMzMzMz0P2dmZmZmZvY/AAAAAAAA+D+amZmZmZn5PzQzMzMzM/s/zczMzMzM/D9nZmZmZmb+PwAAAAAAAABAzczMzMzMAECamZmZmZkBQGdmZmZmZgJANDMzMzMzA0AAAAAAAAAEQM3MzMzMzARAmpmZmZmZBUBnZmZmZmYGQDQzMzMzMwdAAAAAAAAACEA=\",\"dtype\":\"float64\",\"shape\":[31]},\"y\":{\"__ndarray__\":\"AAAAAAAA8D9gs4YGSVX3P9e/nmiAhQBAz/SqHMHdBkD7tujdnhIPQOp8l/y4zBRAYQ0MZFiBG0C5lK+CAgAiQBpQuqP2WidAvkwbvZIULkBjpIdpjj8zQIRQId++fzhABFbijbQIP0AuklIzHJNDQB/GPgGOmkhAH4PwUoHTTkBC40gdwEFTQBXJK8XP/1dAwEyEVfjXXUBCuHiI7YRiQGm/MGuh8WZAnL1kE6NhbED5VouEhodxQIBY3UBvoHVA7SucPeqmekA5fFDj+GeAQBniJXUdLoRA2htxCWbNiEB/vGjNEnaOQGKCvx+HsZJAlfE2mSPulkA=\",\"dtype\":\"float64\",\"shape\":[31]}},\"selected\":{\"id\":\"8f8db4dc-43d6-43b1-bc37-56227e4cd839\",\"type\":\"Selection\"},\"selection_policy\":{\"id\":\"25faa4a1-bb5f-4398-81cb-66bc71702fe7\",\"type\":\"UnionRenderers\"}},\"id\":\"a38f6af1-dae3-4f51-85ef-13fefc413878\",\"type\":\"ColumnDataSource\"},{\"attributes\":{\"line_alpha\":0.1,\"line_color\":\"#1f77b4\",\"line_width\":2,\"x\":{\"field\":\"x\"},\"y\":{\"field\":\"y\"}},\"id\":\"00b5a8da-8d26-472e-95c7-f4e63f7f9e72\",\"type\":\"Line\"},{\"attributes\":{\"data_source\":{\"id\":\"a38f6af1-dae3-4f51-85ef-13fefc413878\",\"type\":\"ColumnDataSource\"},\"glyph\":{\"id\":\"217baf9f-ce98-48ed-826f-bce13e1bbb1f\",\"type\":\"Line\"},\"hover_glyph\":null,\"muted_glyph\":null,\"nonselection_glyph\":{\"id\":\"00b5a8da-8d26-472e-95c7-f4e63f7f9e72\",\"type\":\"Line\"},\"selection_glyph\":null,\"view\":{\"id\":\"b90a4f80-a624-4dc3-9bab-7b20f205c499\",\"type\":\"CDSView\"}},\"id\":\"7f8bb0e6-d897-4375-80ef-c894ac931ac7\",\"type\":\"GlyphRenderer\"},{\"attributes\":{\"source\":{\"id\":\"a38f6af1-dae3-4f51-85ef-13fefc413878\",\"type\":\"ColumnDataSource\"}},\"id\":\"b90a4f80-a624-4dc3-9bab-7b20f205c499\",\"type\":\"CDSView\"},{\"attributes\":{},\"id\":\"94f10fda-e0b4-45a1-a8ac-da07c84f62d4\",\"type\":\"UnionRenderers\"},{\"attributes\":{\"label\":{\"value\":\"Runge Kutta\"},\"renderers\":[{\"id\":\"1e74399c-bf61-4a77-ad68-1bed5db07a9f\",\"type\":\"GlyphRenderer\"}]},\"id\":\"a220edfb-f463-4faf-a0b2-fafeddd3a02a\",\"type\":\"LegendItem\"},{\"attributes\":{},\"id\":\"dce4e029-8a97-4a00-80d2-ac20c6c4f941\",\"type\":\"Selection\"},{\"attributes\":{},\"id\":\"65617bd2-a81f-431c-905e-d96186adbd5f\",\"type\":\"UnionRenderers\"},{\"attributes\":{\"label\":{\"value\":\"Euler Impoved\"},\"renderers\":[{\"id\":\"7f8bb0e6-d897-4375-80ef-c894ac931ac7\",\"type\":\"GlyphRenderer\"}]},\"id\":\"d91667d2-fc3d-46d8-a7b1-5123cc1aaec1\",\"type\":\"LegendItem\"},{\"attributes\":{},\"id\":\"8f8db4dc-43d6-43b1-bc37-56227e4cd839\",\"type\":\"Selection\"},{\"attributes\":{\"line_color\":\"navy\",\"line_width\":2,\"x\":{\"field\":\"x\"},\"y\":{\"field\":\"y\"}},\"id\":\"b9c3b55d-c460-456e-b8fc-baf6a7bbb972\",\"type\":\"Line\"},{\"attributes\":{\"line_alpha\":0.1,\"line_color\":\"#1f77b4\",\"line_width\":2,\"x\":{\"field\":\"x\"},\"y\":{\"field\":\"y\"}},\"id\":\"9b74349c-f185-4126-bdc5-116a6cabae23\",\"type\":\"Line\"},{\"attributes\":{\"data_source\":{\"id\":\"dc65fa6b-8d0e-4b6f-ae9b-ad048874d55e\",\"type\":\"ColumnDataSource\"},\"glyph\":{\"id\":\"b9c3b55d-c460-456e-b8fc-baf6a7bbb972\",\"type\":\"Line\"},\"hover_glyph\":null,\"muted_glyph\":null,\"nonselection_glyph\":{\"id\":\"9b74349c-f185-4126-bdc5-116a6cabae23\",\"type\":\"Line\"},\"selection_glyph\":null,\"view\":{\"id\":\"a41eb4c2-09a0-4246-ae79-8f341e0ff90a\",\"type\":\"CDSView\"}},\"id\":\"159112a8-8bcf-4ab2-9274-6cd29bf1abc0\",\"type\":\"GlyphRenderer\"},{\"attributes\":{\"callback\":null},\"id\":\"d191306e-6ee1-4b04-9508-0369465a0f6a\",\"type\":\"DataRange1d\"},{\"attributes\":{\"source\":{\"id\":\"dc65fa6b-8d0e-4b6f-ae9b-ad048874d55e\",\"type\":\"ColumnDataSource\"}},\"id\":\"a41eb4c2-09a0-4246-ae79-8f341e0ff90a\",\"type\":\"CDSView\"},{\"attributes\":{},\"id\":\"d30cd888-bd41-4ea1-8534-5c27226f7a17\",\"type\":\"UnionRenderers\"},{\"attributes\":{\"callback\":null,\"data\":{\"x\":{\"__ndarray__\":\"AAAAAAAAAACamZmZmZm5P5qZmZmZmck/NDMzMzMz0z+amZmZmZnZPwAAAAAAAOA/NDMzMzMz4z9nZmZmZmbmP5qZmZmZmek/zczMzMzM7D8AAAAAAADwP5qZmZmZmfE/NDMzMzMz8z/NzMzMzMz0P2dmZmZmZvY/AAAAAAAA+D+amZmZmZn5PzQzMzMzM/s/zczMzMzM/D9nZmZmZmb+PwAAAAAAAABAzczMzMzMAECamZmZmZkBQGdmZmZmZgJANDMzMzMzA0AAAAAAAAAEQM3MzMzMzARAmpmZmZmZBUBnZmZmZmYGQDQzMzMzMwdAAAAAAAAACEA=\",\"dtype\":\"float64\",\"shape\":[31]},\"y\":{\"__ndarray__\":\"AAAAAAAAAAAQiERZFJ+wP2g09ysuIMU/+NsBycv60z/EgBDM0LDgP9CPYex8Auo/OLERFJRf8z+E0Xs+1vX7P1yNa7rctANAmItkip9GC0AKS8+GfZoSQKSGz1jAExlAuis+zFG8IEDAcdf/8SYmQEQV5GkYHS1Aou5+HqQDM0CKpMgdM7Q4QDy3cRwY8j9Aylqnm9CRREC83ks5QmRKQBgwdSgC4FBAash/kimEVUC410tCXlxbQCar5ta9WmFAHNRdXIf3ZUCCWFuU5r9rQMA+6rPGfnFAMBLK2vYFdkCCrkm0N657QAcJFd/oXoFAV/CzsOvFhUA=\",\"dtype\":\"float64\",\"shape\":[31]}},\"selected\":{\"id\":\"dce4e029-8a97-4a00-80d2-ac20c6c4f941\",\"type\":\"Selection\"},\"selection_policy\":{\"id\":\"d30cd888-bd41-4ea1-8534-5c27226f7a17\",\"type\":\"UnionRenderers\"}},\"id\":\"21287b40-c8aa-4f7a-9e30-ca6ee395c098\",\"type\":\"ColumnDataSource\"},{\"attributes\":{\"callback\":null,\"data\":{\"x\":{\"__ndarray__\":\"AAAAAAAAAACamZmZmZm5P5qZmZmZmck/NDMzMzMz0z+amZmZmZnZPwAAAAAAAOA/NDMzMzMz4z9nZmZmZmbmP5qZmZmZmek/zczMzMzM7D8AAAAAAADwP5qZmZmZmfE/NDMzMzMz8z/NzMzMzMz0P2dmZmZmZvY/AAAAAAAA+D+amZmZmZn5PzQzMzMzM/s/zczMzMzM/D9nZmZmZmb+PwAAAAAAAABAzczMzMzMAECamZmZmZkBQGdmZmZmZgJANDMzMzMzA0AAAAAAAAAEQM3MzMzMzARAmpmZmZmZBUBnZmZmZmYGQDQzMzMzMwdAAAAAAAAACEA=\",\"dtype\":\"float64\",\"shape\":[31]},\"y\":{\"__ndarray__\":\"AAAAAAAAAAAAgGXM5UYBPwCAgfZ7VRQ/AADQUzoGIj8AwFvZeH0sPwCAD5lXKDU/AIAlobs4Pj8AgK9e5wNFPwBAYjM9qkw/AICPep9DUz8AwK0RqZhZPwBg+Xc+2WA/AODTF5IDZj8AAJczJ5VsPwDAw3ondXI/AEDzWi67dz8AADYApGR+PwAgA9eqZYM/AIDc3pyviD8AAFya6VWPPwBgVV2415M/AGBA2SoUmT8AgPIOkqOfPwDg4+/L7KM/AEAbzx4PqT8AQN6iYHmvPwDgJYLrvbM/AKCs0Re9uD8AYExzE/i+PwCgon/SXcM/AOAF44UzyD8=\",\"dtype\":\"float64\",\"shape\":[31]}},\"selected\":{\"id\":\"582fbdc1-148d-4935-96d6-d81205fc5bfc\",\"type\":\"Selection\"},\"selection_policy\":{\"id\":\"cf8b3a02-f667-47af-aa3e-7f6ee5206e97\",\"type\":\"UnionRenderers\"}},\"id\":\"55343d6a-6a5e-47fd-a6bc-cf3dda73f3f8\",\"type\":\"ColumnDataSource\"},{\"attributes\":{\"label\":{\"value\":\"Euler Impoved\"},\"renderers\":[{\"id\":\"159112a8-8bcf-4ab2-9274-6cd29bf1abc0\",\"type\":\"GlyphRenderer\"}]},\"id\":\"a8d10bba-8bc0-46b5-84f3-6790d7b3c0cb\",\"type\":\"LegendItem\"},{\"attributes\":{\"callback\":null,\"data\":{\"x\":{\"__ndarray__\":\"AAAAAAAAAACamZmZmZm5P5qZmZmZmck/NDMzMzMz0z+amZmZmZnZPwAAAAAAAOA/NDMzMzMz4z9nZmZmZmbmP5qZmZmZmek/zczMzMzM7D8AAAAAAADwP5qZmZmZmfE/NDMzMzMz8z/NzMzMzMz0P2dmZmZmZvY/AAAAAAAA+D+amZmZmZn5PzQzMzMzM/s/zczMzMzM/D9nZmZmZmb+PwAAAAAAAABAzczMzMzMAECamZmZmZkBQGdmZmZmZgJANDMzMzMzA0AAAAAAAAAEQM3MzMzMzARAmpmZmZmZBUBnZmZmZmYGQDQzMzMzMwdAAAAAAAAACEA=\",\"dtype\":\"float64\",\"shape\":[31]},\"y\":{\"__ndarray__\":\"AAAAAAAA8D8cFi8eNXD3P6M5Tj4jpwBAdc8h5HgcB0BzNh6AKHoPQPlDrOaWHBVAxZwg/lP3G0BKsF49jlQiQGVbw2Z00SdAz4+HD8+3LkBBa6YQea4zQCrycUDSFDlAYKP6tD7PP0ArMDqwThZEQEPBE+nRRklA0KdEsm20T0DA6L1k4NNTQCZuo3ffvFhAh/1XtarLXkBOIpiudyFjQPazSdkkumdAD692AsxhbUB+972nwipyQNpSS58GcHZAQt99fGaue0AJilq24w6BQA7zFVRBAYVAgTGqsBTYiUBypLbUcsaPQPFMGcRmhZNATq1qXrz4l0A=\",\"dtype\":\"float64\",\"shape\":[31]}},\"selected\":{\"id\":\"e6fecf56-c3a5-4fe9-a7b7-cb3cf407a7ed\",\"type\":\"Selection\"},\"selection_policy\":{\"id\":\"83e97e34-b5ba-4579-9807-d2ebd7a7c25c\",\"type\":\"UnionRenderers\"}},\"id\":\"75e8732d-7396-44a6-958d-f53c834b7ae4\",\"type\":\"ColumnDataSource\"},{\"attributes\":{\"callback\":null},\"id\":\"962dedee-0db2-4d31-8b95-2d41a8eefebb\",\"type\":\"DataRange1d\"},{\"attributes\":{\"line_color\":\"red\",\"line_width\":2,\"x\":{\"field\":\"x\"},\"y\":{\"field\":\"y\"}},\"id\":\"e3e4ed2a-b14f-46f0-8ca2-3741f4030092\",\"type\":\"Line\"},{\"attributes\":{\"line_alpha\":0.1,\"line_color\":\"#1f77b4\",\"line_width\":2,\"x\":{\"field\":\"x\"},\"y\":{\"field\":\"y\"}},\"id\":\"630b6936-ada3-4d7d-bb6e-ac51cd4fd56c\",\"type\":\"Line\"},{\"attributes\":{},\"id\":\"582fbdc1-148d-4935-96d6-d81205fc5bfc\",\"type\":\"Selection\"},{\"attributes\":{\"data_source\":{\"id\":\"75e8732d-7396-44a6-958d-f53c834b7ae4\",\"type\":\"ColumnDataSource\"},\"glyph\":{\"id\":\"e3e4ed2a-b14f-46f0-8ca2-3741f4030092\",\"type\":\"Line\"},\"hover_glyph\":null,\"muted_glyph\":null,\"nonselection_glyph\":{\"id\":\"630b6936-ada3-4d7d-bb6e-ac51cd4fd56c\",\"type\":\"Line\"},\"selection_glyph\":null,\"view\":{\"id\":\"61dd6f74-0c1d-418e-aee7-f01fd2a0876b\",\"type\":\"CDSView\"}},\"id\":\"1e74399c-bf61-4a77-ad68-1bed5db07a9f\",\"type\":\"GlyphRenderer\"},{\"attributes\":{\"callback\":null,\"data\":{\"x\":{\"__ndarray__\":\"AAAAAAAAAACamZmZmZm5P5qZmZmZmck/NDMzMzMz0z+amZmZmZnZPwAAAAAAAOA/NDMzMzMz4z9nZmZmZmbmP5qZmZmZmek/zczMzMzM7D8AAAAAAADwP5qZmZmZmfE/NDMzMzMz8z/NzMzMzMz0P2dmZmZmZvY/AAAAAAAA+D+amZmZmZn5PzQzMzMzM/s/zczMzMzM/D9nZmZmZmb+PwAAAAAAAABAzczMzMzMAECamZmZmZkBQGdmZmZmZgJANDMzMzMzA0AAAAAAAAAEQM3MzMzMzARAmpmZmZmZBUBnZmZmZmYGQDQzMzMzMwdAAAAAAAAACEA=\",\"dtype\":\"float64\",\"shape\":[31]},\"y\":{\"__ndarray__\":\"AAAAAAAA8D9mZmZmZmb2P79mDQ2Sqv4/NuPqg2edBECxe/1CZk4LQD12fuqb3BFADbUK3OcfF0CvYVkKT6wdQJdFHeGv5CJAZUHqScHmJ0Brvi0jgBAuQEzQMfRo0DJAIkxs68VxN0AuRMIJCRo9QBCS1ncfAEJAGQh4fFkzRkDrgLdfmk5LQHC43Z30wFBABkdr5IeDVEAeKNfvyBFZQCoNpAWFlV5A3ZSN2n+gYkC0euZKU6hmQMz4bjSOhmtADm5FR2uzcEDDfoztzz50QLrJ+dL3hHhAnGsHWL6rfUCUZy27TvCBQAWLRYYarYVAo5p/RBAtikA=\",\"dtype\":\"float64\",\"shape\":[31]}},\"selected\":{\"id\":\"e7f9f781-a734-4c62-b0f2-48c6a8a29a4f\",\"type\":\"Selection\"},\"selection_policy\":{\"id\":\"94f10fda-e0b4-45a1-a8ac-da07c84f62d4\",\"type\":\"UnionRenderers\"}},\"id\":\"485e5b84-27bf-4f92-be82-e77319306740\",\"type\":\"ColumnDataSource\"},{\"attributes\":{\"source\":{\"id\":\"75e8732d-7396-44a6-958d-f53c834b7ae4\",\"type\":\"ColumnDataSource\"}},\"id\":\"61dd6f74-0c1d-418e-aee7-f01fd2a0876b\",\"type\":\"CDSView\"},{\"attributes\":{},\"id\":\"25faa4a1-bb5f-4398-81cb-66bc71702fe7\",\"type\":\"UnionRenderers\"},{\"attributes\":{},\"id\":\"e51de095-e405-42f0-b85d-4186efdf1e1e\",\"type\":\"Selection\"}],\"root_ids\":[\"1533604a-771e-4876-96fc-9784b32db94c\"]},\"title\":\"Bokeh Application\",\"version\":\"0.13.0\"}};\n",
       "  var render_items = [{\"docid\":\"aec6e8c0-520c-4de6-a34f-cdda2af139e3\",\"notebook_comms_target\":\"188cdabd-8023-45a4-8378-58ea186f0c6b\",\"roots\":{\"1533604a-771e-4876-96fc-9784b32db94c\":\"0f4d765c-f81d-43de-863d-7b77257ac070\"}}];\n",
       "  root.Bokeh.embed.embed_items_notebook(docs_json, render_items);\n",
       "\n",
       "  }\n",
       "  if (root.Bokeh !== undefined) {\n",
       "    embed_document(root);\n",
       "  } else {\n",
       "    var attempts = 0;\n",
       "    var timer = setInterval(function(root) {\n",
       "      if (root.Bokeh !== undefined) {\n",
       "        embed_document(root);\n",
       "        clearInterval(timer);\n",
       "      }\n",
       "      attempts++;\n",
       "      if (attempts > 100) {\n",
       "        console.log(\"Bokeh: ERROR: Unable to run BokehJS code because BokehJS library is missing\")\n",
       "        clearInterval(timer);\n",
       "      }\n",
       "    }, 10, root)\n",
       "  }\n",
       "})(window);"
      ],
      "application/vnd.bokehjs_exec.v0+json": ""
     },
     "metadata": {
      "application/vnd.bokehjs_exec.v0+json": {
       "id": "1533604a-771e-4876-96fc-9784b32db94c"
      }
     },
     "output_type": "display_data"
    },
    {
     "data": {
      "text/html": [
       "<p><code>&lt;Bokeh Notebook handle for <strong>In[10]</strong>&gt;</code></p>"
      ],
      "text/plain": [
       "<bokeh.io.notebook.CommsHandle at 0x2923145f0b8>"
      ]
     },
     "execution_count": 10,
     "metadata": {},
     "output_type": "execute_result"
    }
   ],
   "source": [
    "plot = figure(title=\"y` = 2√y + 2y\", x_axis_label='x', y_axis_label='y')  \n",
    "plot_error = figure(title=\"Truncation error\", x_axis_label='x', y_axis_label='y')\n",
    "\n",
    "y_exact = exact(3, 0.1, 0, 1)\n",
    "\n",
    "result = euler(3, 0.1, 0, 1)\n",
    "x = result[0]\n",
    "y = result[1]\n",
    "y_error = abs(y_exact - y)\n",
    "a = plot.line(x,y, legend=\"Euler\", line_width=2, color='green')\n",
    "b = plot_error.line(x,y_error, legend=\"Euler\", line_width=2, color='green')\n",
    "\n",
    "result = euler_improved(3, 0.1, 0, 1)\n",
    "x = result[0]\n",
    "y = result[1]\n",
    "y_error = abs(y_exact - y)\n",
    "c = plot.line(x,y, legend=\"Euler Impoved\", line_width=2, color='navy')\n",
    "d = plot_error.line(x,y_error, legend=\"Euler Impoved\", line_width=2, color='navy')\n",
    "\n",
    "result = runge_kutta(3, 0.1, 0, 1)\n",
    "x = result[0]\n",
    "y = result[1]\n",
    "y_error = abs(y_exact - y)\n",
    "e = plot.line(x,y, legend=\"Runge Kutta\", line_width=2, color='red')\n",
    "f = plot_error.line(x,y_error, legend=\"Runge Kutta\", line_width=2,color='red')\n",
    "\n",
    "g = plot.line(x,y_exact, legend =\"Exact\", line_width = 2, color='orange')\n",
    "\n",
    "\n",
    "\n",
    "plot.legend.location = \"top_left\"\n",
    "plot.legend.click_policy=\"hide\"\n",
    "plot_error.legend.location = \"top_left\"\n",
    "plot_error.legend.click_policy=\"hide\"\n",
    "\n",
    "\n",
    "\n",
    "interact(update, Step = '0.1',\n",
    "         Range = '3', x_0='0', y_0='1')\n",
    "show(column((plot),(plot_error)), notebook_handle=True)"
   ]
  },
  {
   "cell_type": "code",
   "execution_count": 8,
   "metadata": {},
   "outputs": [],
   "source": [
    "def count_exact(x):\n",
    "    return (1-2*np.e**x)**2"
   ]
  },
  {
   "cell_type": "markdown",
   "metadata": {},
   "source": [
    "### Global Truncation Error"
   ]
  },
  {
   "cell_type": "code",
   "execution_count": 9,
   "metadata": {
    "scrolled": false
   },
   "outputs": [
    {
     "data": {
      "text/html": [
       "\n",
       "\n",
       "\n",
       "\n",
       "\n",
       "\n",
       "  <div class=\"bk-root\" id=\"04dedf81-d69d-42c8-8971-69157d207088\"></div>\n"
      ]
     },
     "metadata": {},
     "output_type": "display_data"
    },
    {
     "data": {
      "application/javascript": [
       "(function(root) {\n",
       "  function embed_document(root) {\n",
       "    \n",
       "  var docs_json = {\"8c872780-0a28-4e40-b754-a44c548c3761\":{\"roots\":{\"references\":[{\"attributes\":{\"below\":[{\"id\":\"67fb8179-e303-40d2-a452-084051e23143\",\"type\":\"LinearAxis\"}],\"left\":[{\"id\":\"03c0f745-577c-4340-9c62-ba6578bbd10e\",\"type\":\"LinearAxis\"}],\"renderers\":[{\"id\":\"67fb8179-e303-40d2-a452-084051e23143\",\"type\":\"LinearAxis\"},{\"id\":\"a9c7d580-a9a2-41c3-8680-c48fead8e69c\",\"type\":\"Grid\"},{\"id\":\"03c0f745-577c-4340-9c62-ba6578bbd10e\",\"type\":\"LinearAxis\"},{\"id\":\"a8192ba0-ce1e-4082-bfda-8b8dc6734247\",\"type\":\"Grid\"},{\"id\":\"4d4bdb6d-7835-474b-bef1-528488cd09a6\",\"type\":\"BoxAnnotation\"},{\"id\":\"b53ae2c1-0e18-4c74-82dc-10e26fbdc094\",\"type\":\"Legend\"},{\"id\":\"c49819cc-e628-440a-856a-1ac0cb3434af\",\"type\":\"GlyphRenderer\"},{\"id\":\"81aaeb36-2f88-4cae-922b-c35adb3f351d\",\"type\":\"GlyphRenderer\"},{\"id\":\"06d621a8-964e-49aa-aa23-ab6cc07aaa3e\",\"type\":\"GlyphRenderer\"}],\"title\":{\"id\":\"66cf2aa0-e6f2-4a5b-82ee-292a85b142fb\",\"type\":\"Title\"},\"toolbar\":{\"id\":\"bdf9bf24-8b65-457e-a91f-cf1470b67b8f\",\"type\":\"Toolbar\"},\"x_range\":{\"id\":\"78bd5591-408d-4981-b86a-0a6208b5ee5b\",\"type\":\"DataRange1d\"},\"x_scale\":{\"id\":\"9832beaf-aca8-4c67-acaa-7ffc1aed47d2\",\"type\":\"LinearScale\"},\"y_range\":{\"id\":\"bd4d398e-4f3e-4f18-b862-4db7c3a6b6d3\",\"type\":\"DataRange1d\"},\"y_scale\":{\"id\":\"1a39cdbb-4412-41dc-94db-24b7166f111c\",\"type\":\"LinearScale\"}},\"id\":\"bfc4dcf1-c31a-4c73-9900-e5fb2f0625a4\",\"subtype\":\"Figure\",\"type\":\"Plot\"},{\"attributes\":{\"plot\":null,\"text\":\"Global error\"},\"id\":\"66cf2aa0-e6f2-4a5b-82ee-292a85b142fb\",\"type\":\"Title\"},{\"attributes\":{},\"id\":\"717f676e-a2d1-41e2-8060-c9a2b6a9088d\",\"type\":\"Selection\"},{\"attributes\":{\"callback\":null},\"id\":\"78bd5591-408d-4981-b86a-0a6208b5ee5b\",\"type\":\"DataRange1d\"},{\"attributes\":{\"line_alpha\":0.1,\"line_color\":\"#1f77b4\",\"line_width\":2,\"x\":{\"field\":\"x\"},\"y\":{\"field\":\"y\"}},\"id\":\"b242f675-06cd-4701-845b-7e8281bc1f12\",\"type\":\"Line\"},{\"attributes\":{\"active_drag\":\"auto\",\"active_inspect\":\"auto\",\"active_multi\":null,\"active_scroll\":\"auto\",\"active_tap\":\"auto\",\"tools\":[{\"id\":\"c8bf4211-c471-43a5-b5f3-c01e64f39746\",\"type\":\"PanTool\"},{\"id\":\"800fca32-f974-4e8c-8b30-21731501edca\",\"type\":\"WheelZoomTool\"},{\"id\":\"d2c0c96a-65e0-4870-99d3-47a27675d19f\",\"type\":\"BoxZoomTool\"},{\"id\":\"9e11b158-eada-4ff5-9961-e1341838b3f4\",\"type\":\"SaveTool\"},{\"id\":\"7adcc964-66b2-4ecc-a2f0-306eccff2da7\",\"type\":\"ResetTool\"},{\"id\":\"2b4aaf3a-599a-4741-be10-94fad2a5cee0\",\"type\":\"HelpTool\"}]},\"id\":\"bdf9bf24-8b65-457e-a91f-cf1470b67b8f\",\"type\":\"Toolbar\"},{\"attributes\":{\"data_source\":{\"id\":\"b0db41f6-3e66-4905-af6a-424f290409a5\",\"type\":\"ColumnDataSource\"},\"glyph\":{\"id\":\"18557125-6e71-42d0-b58e-47a03f51ccee\",\"type\":\"Line\"},\"hover_glyph\":null,\"muted_glyph\":null,\"nonselection_glyph\":{\"id\":\"b242f675-06cd-4701-845b-7e8281bc1f12\",\"type\":\"Line\"},\"selection_glyph\":null,\"view\":{\"id\":\"b3df438e-828d-4454-8770-43c1287d974b\",\"type\":\"CDSView\"}},\"id\":\"06d621a8-964e-49aa-aa23-ab6cc07aaa3e\",\"type\":\"GlyphRenderer\"},{\"attributes\":{\"line_alpha\":0.1,\"line_color\":\"#1f77b4\",\"line_width\":2,\"x\":{\"field\":\"x\"},\"y\":{\"field\":\"y\"}},\"id\":\"83796ae8-f074-4d1a-ace4-fbc42f04c4b9\",\"type\":\"Line\"},{\"attributes\":{\"source\":{\"id\":\"b0db41f6-3e66-4905-af6a-424f290409a5\",\"type\":\"ColumnDataSource\"}},\"id\":\"b3df438e-828d-4454-8770-43c1287d974b\",\"type\":\"CDSView\"},{\"attributes\":{},\"id\":\"9832beaf-aca8-4c67-acaa-7ffc1aed47d2\",\"type\":\"LinearScale\"},{\"attributes\":{},\"id\":\"b9b8f427-b46b-4202-9c40-d19924c60288\",\"type\":\"UnionRenderers\"},{\"attributes\":{\"callback\":null},\"id\":\"bd4d398e-4f3e-4f18-b862-4db7c3a6b6d3\",\"type\":\"DataRange1d\"},{\"attributes\":{},\"id\":\"4eb48467-07a4-43e3-a009-7cbf5413d31c\",\"type\":\"UnionRenderers\"},{\"attributes\":{},\"id\":\"1a39cdbb-4412-41dc-94db-24b7166f111c\",\"type\":\"LinearScale\"},{\"attributes\":{\"label\":{\"value\":\"Runge Kutta\"},\"renderers\":[{\"id\":\"06d621a8-964e-49aa-aa23-ab6cc07aaa3e\",\"type\":\"GlyphRenderer\"}]},\"id\":\"a5f43b9c-0038-49b8-bc67-72c842bd4915\",\"type\":\"LegendItem\"},{\"attributes\":{\"plot\":{\"id\":\"bfc4dcf1-c31a-4c73-9900-e5fb2f0625a4\",\"subtype\":\"Figure\",\"type\":\"Plot\"},\"ticker\":{\"id\":\"24f49ec3-91b9-4516-9e01-a687f417ae33\",\"type\":\"BasicTicker\"}},\"id\":\"a9c7d580-a9a2-41c3-8680-c48fead8e69c\",\"type\":\"Grid\"},{\"attributes\":{\"axis_label\":\"h\",\"formatter\":{\"id\":\"4243b955-058c-48a8-8972-793fe0d0d251\",\"type\":\"BasicTickFormatter\"},\"plot\":{\"id\":\"bfc4dcf1-c31a-4c73-9900-e5fb2f0625a4\",\"subtype\":\"Figure\",\"type\":\"Plot\"},\"ticker\":{\"id\":\"24f49ec3-91b9-4516-9e01-a687f417ae33\",\"type\":\"BasicTicker\"}},\"id\":\"67fb8179-e303-40d2-a452-084051e23143\",\"type\":\"LinearAxis\"},{\"attributes\":{},\"id\":\"6b9fc8b0-1497-4e07-a94b-fba4f6a3602c\",\"type\":\"Selection\"},{\"attributes\":{},\"id\":\"24f49ec3-91b9-4516-9e01-a687f417ae33\",\"type\":\"BasicTicker\"},{\"attributes\":{\"axis_label\":\"y\",\"formatter\":{\"id\":\"cd770cd6-eea6-4281-a357-18aa9132706a\",\"type\":\"BasicTickFormatter\"},\"plot\":{\"id\":\"bfc4dcf1-c31a-4c73-9900-e5fb2f0625a4\",\"subtype\":\"Figure\",\"type\":\"Plot\"},\"ticker\":{\"id\":\"8c4e5941-a7af-492f-8131-4d6b4561911e\",\"type\":\"BasicTicker\"}},\"id\":\"03c0f745-577c-4340-9c62-ba6578bbd10e\",\"type\":\"LinearAxis\"},{\"attributes\":{},\"id\":\"8c4e5941-a7af-492f-8131-4d6b4561911e\",\"type\":\"BasicTicker\"},{\"attributes\":{\"dimension\":1,\"plot\":{\"id\":\"bfc4dcf1-c31a-4c73-9900-e5fb2f0625a4\",\"subtype\":\"Figure\",\"type\":\"Plot\"},\"ticker\":{\"id\":\"8c4e5941-a7af-492f-8131-4d6b4561911e\",\"type\":\"BasicTicker\"}},\"id\":\"a8192ba0-ce1e-4082-bfda-8b8dc6734247\",\"type\":\"Grid\"},{\"attributes\":{\"data_source\":{\"id\":\"ad136b0e-0c5d-4371-b64f-33aabe7a31fd\",\"type\":\"ColumnDataSource\"},\"glyph\":{\"id\":\"3f92b539-b1d7-483b-855b-0e1cc6c1070a\",\"type\":\"Line\"},\"hover_glyph\":null,\"muted_glyph\":null,\"nonselection_glyph\":{\"id\":\"83796ae8-f074-4d1a-ace4-fbc42f04c4b9\",\"type\":\"Line\"},\"selection_glyph\":null,\"view\":{\"id\":\"eef68381-b2ed-4c40-8161-1f4a63d69ff6\",\"type\":\"CDSView\"}},\"id\":\"c49819cc-e628-440a-856a-1ac0cb3434af\",\"type\":\"GlyphRenderer\"},{\"attributes\":{\"line_color\":\"green\",\"line_width\":2,\"x\":{\"field\":\"x\"},\"y\":{\"field\":\"y\"}},\"id\":\"3f92b539-b1d7-483b-855b-0e1cc6c1070a\",\"type\":\"Line\"},{\"attributes\":{\"callback\":null,\"data\":{\"x\":[0.1,0.05,0.03333333333333333,0.025,0.02,0.016666666666666666,0.014285714285714285,0.0125,0.011111111111111112,0.01,0.00909090909090909,0.008333333333333333,0.007692307692307693,0.007142857142857143,0.006666666666666667,0.00625,0.0058823529411764705,0.005555555555555556,0.005263157894736842,0.005,0.004761904761904762,0.004545454545454545,0.004347826086956522,0.004166666666666667,0.004,0.0038461538461538464,0.003703703703703704,0.0035714285714285713,0.0034482758620689655,0.0033333333333333335,0.0032258064516129032,0.003125,0.0030303030303030303,0.0029411764705882353,0.002857142857142857,0.002777777777777778,0.002702702702702703,0.002631578947368421,0.002564102564102564,0.0025,0.0024390243902439024,0.002380952380952381,0.002325581395348837,0.0022727272727272726,0.0022222222222222222,0.002173913043478261,0.002127659574468085,0.0020833333333333333,0.0020408163265306124,0.002,0.00196078431372549,0.0019230769230769232,0.0018867924528301887,0.001851851851851852,0.0018181818181818182,0.0017857142857142857,0.0017543859649122807,0.0017241379310344827,0.001694915254237288,0.0016666666666666668,0.001639344262295082,0.0016129032258064516,0.0015873015873015873,0.0015625,0.0015384615384615385,0.0015151515151515152,0.0014925373134328358,0.0014705882352941176,0.0014492753623188406,0.0014285714285714286,0.0014084507042253522,0.001388888888888889,0.0013698630136986301,0.0013513513513513514,0.0013333333333333333,0.0013157894736842105,0.0012987012987012987,0.001282051282051282,0.0012658227848101266,0.00125,0.0012345679012345679,0.0012195121951219512,0.0012048192771084338,0.0011904761904761906,0.001176470588235294,0.0011627906976744186,0.0011494252873563218,0.0011363636363636363,0.0011235955056179776,0.0011111111111111111,0.001098901098901099,0.0010869565217391304,0.001075268817204301,0.0010638297872340426,0.0010526315789473684,0.0010416666666666667,0.0010309278350515464,0.0010204081632653062,0.00101010101010101],\"y\":[27984768.31213689,7878109.477429837,3624794.617114514,2072333.2728528082,1338791.6021350026,935400.977625221,690177.9547942877,530091.5859924853,419858.54478013515,340742.6780797243,282047.62106248736,237306.56255161762,202423.42782500386,174701.65998381376,152307.3401954472,133958.06593203545,118735.27653589845,105967.06588485837,95152.7750261724,85913.17033237219,2566485.4233911037,71056.4560970068,65033.331793665886,59744.76848986745,55076.00457713008,50933.84449848533,47241.97231426835,43937.411712139845,40967.82281848788,38289.41712680459,35865.334169209,33664.36662259698,31659.95098093152,29829.36235103011,28153.067561030388,26614.20196864009,25198.14364719391,23892.164795726538,22685.144755631685,21567.332498580217,20530.14908620715,1267084.3255836964,18668.24948590994,17830.877860963345,17048.60848018527,16316.710761904716,15630.951086968184,14987.531448304653,14383.036748886108,13814.389394819736,13278.810042440891,12773.783579349518,12297.02954980731,11846.476350158453,11420.238701760769,11016.59789210558,10633.984427064657,10270.962736666203,9926.217714607716,9598.54276522994,9286.829255700111,8990.057107150555,8707.286448419094,8437.650167316198,8180.347251296043,7934.636824697256,7699.832831442356,7475.2992208004,7260.445635706186,7054.723546594381,6857.622726649046,6668.66809245944,6487.416848510504,6313.455873012543,6146.399380803108,5985.8867555856705,5831.580638080835,5683.165123432875,5540.34414729476,5402.84003174305,5270.392095595598,5142.7554551661015,637073.2749555707,629439.3874158859,4786.477974414825,4675.915494829416,4569.140033483505,4465.980598598719,593858.8998534083,4269.87288954854,4176.627857089043,4086.4042072296143,3999.072807997465,3914.511343508959,3832.6038947105408,3753.240560591221,3676.3170503675938,3601.7343704402447,3529.3985040187836]},\"selected\":{\"id\":\"717f676e-a2d1-41e2-8060-c9a2b6a9088d\",\"type\":\"Selection\"},\"selection_policy\":{\"id\":\"b9b8f427-b46b-4202-9c40-d19924c60288\",\"type\":\"UnionRenderers\"}},\"id\":\"eda23384-a92d-4577-84c2-4a5d527cdec1\",\"type\":\"ColumnDataSource\"},{\"attributes\":{},\"id\":\"cd770cd6-eea6-4281-a357-18aa9132706a\",\"type\":\"BasicTickFormatter\"},{\"attributes\":{},\"id\":\"c8bf4211-c471-43a5-b5f3-c01e64f39746\",\"type\":\"PanTool\"},{\"attributes\":{},\"id\":\"4243b955-058c-48a8-8972-793fe0d0d251\",\"type\":\"BasicTickFormatter\"},{\"attributes\":{},\"id\":\"800fca32-f974-4e8c-8b30-21731501edca\",\"type\":\"WheelZoomTool\"},{\"attributes\":{\"overlay\":{\"id\":\"4d4bdb6d-7835-474b-bef1-528488cd09a6\",\"type\":\"BoxAnnotation\"}},\"id\":\"d2c0c96a-65e0-4870-99d3-47a27675d19f\",\"type\":\"BoxZoomTool\"},{\"attributes\":{},\"id\":\"9e11b158-eada-4ff5-9961-e1341838b3f4\",\"type\":\"SaveTool\"},{\"attributes\":{},\"id\":\"7adcc964-66b2-4ecc-a2f0-306eccff2da7\",\"type\":\"ResetTool\"},{\"attributes\":{},\"id\":\"2b4aaf3a-599a-4741-be10-94fad2a5cee0\",\"type\":\"HelpTool\"},{\"attributes\":{\"bottom_units\":\"screen\",\"fill_alpha\":{\"value\":0.5},\"fill_color\":{\"value\":\"lightgrey\"},\"left_units\":\"screen\",\"level\":\"overlay\",\"line_alpha\":{\"value\":1.0},\"line_color\":{\"value\":\"black\"},\"line_dash\":[4,4],\"line_width\":{\"value\":2},\"plot\":null,\"render_mode\":\"css\",\"right_units\":\"screen\",\"top_units\":\"screen\"},\"id\":\"4d4bdb6d-7835-474b-bef1-528488cd09a6\",\"type\":\"BoxAnnotation\"},{\"attributes\":{\"callback\":null,\"data\":{\"x\":[0.1,0.05,0.03333333333333333,0.025,0.02,0.016666666666666666,0.014285714285714285,0.0125,0.011111111111111112,0.01,0.00909090909090909,0.008333333333333333,0.007692307692307693,0.007142857142857143,0.006666666666666667,0.00625,0.0058823529411764705,0.005555555555555556,0.005263157894736842,0.005,0.004761904761904762,0.004545454545454545,0.004347826086956522,0.004166666666666667,0.004,0.0038461538461538464,0.003703703703703704,0.0035714285714285713,0.0034482758620689655,0.0033333333333333335,0.0032258064516129032,0.003125,0.0030303030303030303,0.0029411764705882353,0.002857142857142857,0.002777777777777778,0.002702702702702703,0.002631578947368421,0.002564102564102564,0.0025,0.0024390243902439024,0.002380952380952381,0.002325581395348837,0.0022727272727272726,0.0022222222222222222,0.002173913043478261,0.002127659574468085,0.0020833333333333333,0.0020408163265306124,0.002,0.00196078431372549,0.0019230769230769232,0.0018867924528301887,0.001851851851851852,0.0018181818181818182,0.0017857142857142857,0.0017543859649122807,0.0017241379310344827,0.001694915254237288,0.0016666666666666668,0.001639344262295082,0.0016129032258064516,0.0015873015873015873,0.0015625,0.0015384615384615385,0.0015151515151515152,0.0014925373134328358,0.0014705882352941176,0.0014492753623188406,0.0014285714285714286,0.0014084507042253522,0.001388888888888889,0.0013698630136986301,0.0013513513513513514,0.0013333333333333333,0.0013157894736842105,0.0012987012987012987,0.001282051282051282,0.0012658227848101266,0.00125,0.0012345679012345679,0.0012195121951219512,0.0012048192771084338,0.0011904761904761906,0.001176470588235294,0.0011627906976744186,0.0011494252873563218,0.0011363636363636363,0.0011235955056179776,0.0011111111111111111,0.001098901098901099,0.0010869565217391304,0.001075268817204301,0.0010638297872340426,0.0010526315789473684,0.0010416666666666667,0.0010309278350515464,0.0010204081632653062,0.00101010101010101],\"y\":[67476.03178033233,4624.688559442759,942.0903735160828,302.71304097771645,125.14376622438431,60.72448942065239,32.9223767220974,19.362413078546524,12.118991136550903,7.967650055885315,5.451183706521988,3.8543051183223724,2.8016472458839417,2.085051715373993,1.5836060643196106,1.224242627620697,0.9612736403942108,0.7652725577354431,0.6167750954627991,0.5026116371154785,2489305.207314551,0.34358006715774536,0.2877180278301239,0.24276059865951538,0.2062518298625946,0.1763547956943512,0.15168428421020508,0.1311817169189453,0.11402744054794312,0.09958821535110474,0.08736464381217957,0.0769592821598053,0.06805887818336487,0.060407936573028564,0.05380147695541382,0.04807642102241516,0.04309207201004028,0.03873738646507263,0.03491738438606262,0.0315592885017395,0.028594136238098145,1247615.9688469172,0.023638933897018433,0.021564334630966187,0.019712328910827637,0.018054872751235962,0.016567885875701904,0.015229403972625732,0.014026284217834473,0.012938469648361206,0.011953920125961304,0.011059731245040894,0.010251462459564209,0.009511768817901611,0.008838891983032227,0.008226275444030762,0.007663428783416748,0.007149308919906616,0.006676614284515381,0.0062438249588012695,0.0058438777923583984,0.005476862192153931,0.005136072635650635,0.004824519157409668,0.004533171653747559,0.004265248775482178,0.004017621278762817,0.0037853121757507324,0.003569662570953369,0.0033710598945617676,0.003186464309692383,0.0030125677585601807,0.002850770950317383,0.0026988983154296875,0.0025585591793060303,0.002427607774734497,0.0023027658462524414,0.0021882355213165283,0.002078503370285034,0.0019753873348236084,0.0018807053565979004,0.0017912089824676514,632066.2681223452,624550.6242527068,0.0015526413917541504,0.0014809966087341309,0.0014132857322692871,0.0013495385646820068,589502.921341151,0.001235663890838623,0.0011795759201049805,0.0011317133903503418,0.0010824799537658691,0.0010371804237365723,0.0009937882423400879,0.0009549558162689209,0.0009126961231231689,0.0008803904056549072,0.0008442401885986328]},\"selected\":{\"id\":\"6b9fc8b0-1497-4e07-a94b-fba4f6a3602c\",\"type\":\"Selection\"},\"selection_policy\":{\"id\":\"4eb48467-07a4-43e3-a009-7cbf5413d31c\",\"type\":\"UnionRenderers\"}},\"id\":\"b0db41f6-3e66-4905-af6a-424f290409a5\",\"type\":\"ColumnDataSource\"},{\"attributes\":{},\"id\":\"a4113cec-01e0-4b02-9d62-9018e7659c3f\",\"type\":\"Selection\"},{\"attributes\":{\"label\":{\"value\":\"Euler\"},\"renderers\":[{\"id\":\"c49819cc-e628-440a-856a-1ac0cb3434af\",\"type\":\"GlyphRenderer\"}]},\"id\":\"b2d842a8-db14-44e1-bfba-6ffa7bbef2b6\",\"type\":\"LegendItem\"},{\"attributes\":{\"line_color\":\"navy\",\"line_width\":2,\"x\":{\"field\":\"x\"},\"y\":{\"field\":\"y\"}},\"id\":\"f239f523-7f2c-40e6-a096-d65090f60958\",\"type\":\"Line\"},{\"attributes\":{\"line_alpha\":0.1,\"line_color\":\"#1f77b4\",\"line_width\":2,\"x\":{\"field\":\"x\"},\"y\":{\"field\":\"y\"}},\"id\":\"94c15927-327d-4d14-b086-de0eddc2c97a\",\"type\":\"Line\"},{\"attributes\":{\"data_source\":{\"id\":\"eda23384-a92d-4577-84c2-4a5d527cdec1\",\"type\":\"ColumnDataSource\"},\"glyph\":{\"id\":\"f239f523-7f2c-40e6-a096-d65090f60958\",\"type\":\"Line\"},\"hover_glyph\":null,\"muted_glyph\":null,\"nonselection_glyph\":{\"id\":\"94c15927-327d-4d14-b086-de0eddc2c97a\",\"type\":\"Line\"},\"selection_glyph\":null,\"view\":{\"id\":\"d66b34ad-e24d-4eac-a1c8-cc88aee43c8e\",\"type\":\"CDSView\"}},\"id\":\"81aaeb36-2f88-4cae-922b-c35adb3f351d\",\"type\":\"GlyphRenderer\"},{\"attributes\":{\"source\":{\"id\":\"eda23384-a92d-4577-84c2-4a5d527cdec1\",\"type\":\"ColumnDataSource\"}},\"id\":\"d66b34ad-e24d-4eac-a1c8-cc88aee43c8e\",\"type\":\"CDSView\"},{\"attributes\":{},\"id\":\"b96f6b0d-134e-43c0-b6ae-d197ef40bd7d\",\"type\":\"UnionRenderers\"},{\"attributes\":{\"callback\":null,\"data\":{\"x\":[0.1,0.05,0.03333333333333333,0.025,0.02,0.016666666666666666,0.014285714285714285,0.0125,0.011111111111111112,0.01,0.00909090909090909,0.008333333333333333,0.007692307692307693,0.007142857142857143,0.006666666666666667,0.00625,0.0058823529411764705,0.005555555555555556,0.005263157894736842,0.005,0.004761904761904762,0.004545454545454545,0.004347826086956522,0.004166666666666667,0.004,0.0038461538461538464,0.003703703703703704,0.0035714285714285713,0.0034482758620689655,0.0033333333333333335,0.0032258064516129032,0.003125,0.0030303030303030303,0.0029411764705882353,0.002857142857142857,0.002777777777777778,0.002702702702702703,0.002631578947368421,0.002564102564102564,0.0025,0.0024390243902439024,0.002380952380952381,0.002325581395348837,0.0022727272727272726,0.0022222222222222222,0.002173913043478261,0.002127659574468085,0.0020833333333333333,0.0020408163265306124,0.002,0.00196078431372549,0.0019230769230769232,0.0018867924528301887,0.001851851851851852,0.0018181818181818182,0.0017857142857142857,0.0017543859649122807,0.0017241379310344827,0.001694915254237288,0.0016666666666666668,0.001639344262295082,0.0016129032258064516,0.0015873015873015873,0.0015625,0.0015384615384615385,0.0015151515151515152,0.0014925373134328358,0.0014705882352941176,0.0014492753623188406,0.0014285714285714286,0.0014084507042253522,0.001388888888888889,0.0013698630136986301,0.0013513513513513514,0.0013333333333333333,0.0013157894736842105,0.0012987012987012987,0.001282051282051282,0.0012658227848101266,0.00125,0.0012345679012345679,0.0012195121951219512,0.0012048192771084338,0.0011904761904761906,0.001176470588235294,0.0011627906976744186,0.0011494252873563218,0.0011363636363636363,0.0011235955056179776,0.0011111111111111111,0.001098901098901099,0.0010869565217391304,0.001075268817204301,0.0010638297872340426,0.0010526315789473684,0.0010416666666666667,0.0010309278350515464,0.0010204081632653062,0.00101010101010101],\"y\":[212253840.70331767,153299027.74493158,118001721.9943864,95542046.8553558,80153523.85274976,68991972.11315843,60539968.30853033,53923264.337127954,48605179.70552966,44238854.28513694,40590466.3481358,37496792.56590226,34840497.976979464,32535101.21348247,30515475.951494843,28731652.178800493,27144655.152437836,25723642.203371197,24443889.004226714,23285345.428597987,24499424.25853142,21269006.988415033,20386282.249367,19573872.45952767,18823701.864385724,18128885.218146503,17483516.30205384,16882499.95753175,16321417.538951099,15796418.280450583,15304130.937072933,14841591.420435548,14406183.151065022,13995587.595198482,13607743.013982654,13240809.877557695,12893141.720972896,12563260.46872747,12249835.448701173,11951665.467661053,11667663.439750314,12587489.760667086,11138307.839203686,10891240.254332751,10654894.061658293,10428586.303168148,10211690.813245445,10003632.436365217,9803881.937057078,9611951.507374227,9427390.791572541,9249783.359913796,9078743.573430121,8913913.790038884,8754961.869419545,8601578.940026194,8453477.396682382,8310389.101432979,8172063.763974249,8038267.481147826,7908781.417509705,7783400.611337453,7661932.89242968,7544197.899612069,7430026.187442422,7319258.412765831,7211744.592962474,7107343.428591758,7005921.68400529,6907353.620241731,6811520.4750956595,6718309.985895902,6627615.95088011,6539337.825661123,6453380.351467937,6369653.212352961,6288070.718714833,6208551.514830798,6131018.308301866,6055397.619515985,5981619.549419224,5909617.564050913,6456597.865704596,6380792.968204856,5703649.149011284,5638146.750246644,5574131.71026051,5511553.9396289885,6026986.913305759,5390520.847061247,5331975.986301422,5274689.096352071,5218620.06396991,5163730.463377655,5109983.468473613,5057343.770439804,5005777.500387162,4955252.156717986,4905736.5368082225]},\"selected\":{\"id\":\"a4113cec-01e0-4b02-9d62-9018e7659c3f\",\"type\":\"Selection\"},\"selection_policy\":{\"id\":\"b96f6b0d-134e-43c0-b6ae-d197ef40bd7d\",\"type\":\"UnionRenderers\"}},\"id\":\"ad136b0e-0c5d-4371-b64f-33aabe7a31fd\",\"type\":\"ColumnDataSource\"},{\"attributes\":{\"line_color\":\"red\",\"line_width\":2,\"x\":{\"field\":\"x\"},\"y\":{\"field\":\"y\"}},\"id\":\"18557125-6e71-42d0-b58e-47a03f51ccee\",\"type\":\"Line\"},{\"attributes\":{\"source\":{\"id\":\"ad136b0e-0c5d-4371-b64f-33aabe7a31fd\",\"type\":\"ColumnDataSource\"}},\"id\":\"eef68381-b2ed-4c40-8161-1f4a63d69ff6\",\"type\":\"CDSView\"},{\"attributes\":{\"label\":{\"value\":\"Euler Impoved\"},\"renderers\":[{\"id\":\"81aaeb36-2f88-4cae-922b-c35adb3f351d\",\"type\":\"GlyphRenderer\"}]},\"id\":\"154f93f3-afc6-4886-bd33-614dffda2cca\",\"type\":\"LegendItem\"},{\"attributes\":{\"click_policy\":\"hide\",\"items\":[{\"id\":\"b2d842a8-db14-44e1-bfba-6ffa7bbef2b6\",\"type\":\"LegendItem\"},{\"id\":\"154f93f3-afc6-4886-bd33-614dffda2cca\",\"type\":\"LegendItem\"},{\"id\":\"a5f43b9c-0038-49b8-bc67-72c842bd4915\",\"type\":\"LegendItem\"}],\"location\":\"top_left\",\"plot\":{\"id\":\"bfc4dcf1-c31a-4c73-9900-e5fb2f0625a4\",\"subtype\":\"Figure\",\"type\":\"Plot\"}},\"id\":\"b53ae2c1-0e18-4c74-82dc-10e26fbdc094\",\"type\":\"Legend\"}],\"root_ids\":[\"bfc4dcf1-c31a-4c73-9900-e5fb2f0625a4\"]},\"title\":\"Bokeh Application\",\"version\":\"0.13.0\"}};\n",
       "  var render_items = [{\"docid\":\"8c872780-0a28-4e40-b754-a44c548c3761\",\"roots\":{\"bfc4dcf1-c31a-4c73-9900-e5fb2f0625a4\":\"04dedf81-d69d-42c8-8971-69157d207088\"}}];\n",
       "  root.Bokeh.embed.embed_items_notebook(docs_json, render_items);\n",
       "\n",
       "  }\n",
       "  if (root.Bokeh !== undefined) {\n",
       "    embed_document(root);\n",
       "  } else {\n",
       "    var attempts = 0;\n",
       "    var timer = setInterval(function(root) {\n",
       "      if (root.Bokeh !== undefined) {\n",
       "        embed_document(root);\n",
       "        clearInterval(timer);\n",
       "      }\n",
       "      attempts++;\n",
       "      if (attempts > 100) {\n",
       "        console.log(\"Bokeh: ERROR: Unable to run BokehJS code because BokehJS library is missing\")\n",
       "        clearInterval(timer);\n",
       "      }\n",
       "    }, 10, root)\n",
       "  }\n",
       "})(window);"
      ],
      "application/vnd.bokehjs_exec.v0+json": ""
     },
     "metadata": {
      "application/vnd.bokehjs_exec.v0+json": {
       "id": "bfc4dcf1-c31a-4c73-9900-e5fb2f0625a4"
      }
     },
     "output_type": "display_data"
    }
   ],
   "source": [
    "\n",
    "euler_ge = []\n",
    "euler_improved_ge = []\n",
    "runge_kutta_ge = []\n",
    "x = []\n",
    "for i in range(1,100):    \n",
    "    x.append(1/(10*i))\n",
    "    result = euler(9, 1/(10*i), 0, 1)\n",
    "    max_error = result[1][len(result[1]) - 1]\n",
    "    euler_ge.append(abs(count_exact(9)-max_error))\n",
    "    \n",
    "    result = euler_improved(9, 1/(10*i), 0, 1)\n",
    "    max_error = result[1][len(result[1]) - 1]\n",
    "    euler_improved_ge.append(abs(count_exact(9)-max_error))\n",
    "    \n",
    "    result = runge_kutta(9, 1/(10*i), 0, 1)\n",
    "    max_error = result[1][len(result[1]) - 1]\n",
    "    runge_kutta_ge.append(abs(count_exact(9)-max_error))\n",
    "    \n",
    "plot_ge = figure(title=\"Global error\", x_axis_label='h', y_axis_label='y')  \n",
    "plot_ge.line(x,euler_ge, legend=\"Euler\", line_width=2, color='green')\n",
    "plot_ge.line(x,euler_improved_ge, legend=\"Euler Impoved\", line_width=2, color='navy')\n",
    "plot_ge.line(x,runge_kutta_ge, legend=\"Runge Kutta\", line_width=2,color='red')\n",
    "\n",
    "plot_ge.legend.location = \"top_left\"\n",
    "plot_ge.legend.click_policy=\"hide\"\n",
    "    \n",
    "show(plot_ge)"
   ]
  }
 ],
 "metadata": {
  "kernelspec": {
   "display_name": "Python 3",
   "language": "python",
   "name": "python3"
  },
  "language_info": {
   "codemirror_mode": {
    "name": "ipython",
    "version": 3
   },
   "file_extension": ".py",
   "mimetype": "text/x-python",
   "name": "python",
   "nbconvert_exporter": "python",
   "pygments_lexer": "ipython3",
   "version": "3.7.0"
  }
 },
 "nbformat": 4,
 "nbformat_minor": 2
}
